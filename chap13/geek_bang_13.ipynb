{
  "nbformat": 4,
  "nbformat_minor": 0,
  "metadata": {
    "colab": {
      "name": "geek_bang_13",
      "provenance": []
    },
    "kernelspec": {
      "name": "python3",
      "display_name": "Python 3"
    },
    "language_info": {
      "name": "python"
    }
  },
  "cells": [
    {
      "cell_type": "markdown",
      "metadata": {
        "id": "SEPtIzlfiOGl"
      },
      "source": [
        "# Fundamental Concepts of Jax/Flax"
      ]
    },
    {
      "cell_type": "code",
      "metadata": {
        "colab": {
          "base_uri": "https://localhost:8080/"
        },
        "id": "XSKL5wlXiO6M",
        "outputId": "26874054-01eb-4717-8019-e247381c44fb"
      },
      "source": [
        "!pip install jax jaxlib flax "
      ],
      "execution_count": null,
      "outputs": [
        {
          "output_type": "stream",
          "text": [
            "Requirement already satisfied: jax in /usr/local/lib/python3.7/dist-packages (0.2.12)\n",
            "Requirement already satisfied: jaxlib in /usr/local/lib/python3.7/dist-packages (0.1.65+cuda110)\n",
            "Collecting flax\n",
            "\u001b[?25l  Downloading https://files.pythonhosted.org/packages/63/1f/63c720200f7a679d9fd408eb2641960d6fa99030c874ecba24091e694f91/flax-0.3.3-py3-none-any.whl (179kB)\n",
            "\r\u001b[K     |█▉                              | 10kB 16.7MB/s eta 0:00:01\r\u001b[K     |███▋                            | 20kB 22.0MB/s eta 0:00:01\r\u001b[K     |█████▌                          | 30kB 15.0MB/s eta 0:00:01\r\u001b[K     |███████▎                        | 40kB 13.0MB/s eta 0:00:01\r\u001b[K     |█████████▏                      | 51kB 9.7MB/s eta 0:00:01\r\u001b[K     |███████████                     | 61kB 9.2MB/s eta 0:00:01\r\u001b[K     |████████████▉                   | 71kB 8.8MB/s eta 0:00:01\r\u001b[K     |██████████████▋                 | 81kB 9.6MB/s eta 0:00:01\r\u001b[K     |████████████████▌               | 92kB 9.8MB/s eta 0:00:01\r\u001b[K     |██████████████████▎             | 102kB 8.9MB/s eta 0:00:01\r\u001b[K     |████████████████████▏           | 112kB 8.9MB/s eta 0:00:01\r\u001b[K     |██████████████████████          | 122kB 8.9MB/s eta 0:00:01\r\u001b[K     |███████████████████████▉        | 133kB 8.9MB/s eta 0:00:01\r\u001b[K     |█████████████████████████▋      | 143kB 8.9MB/s eta 0:00:01\r\u001b[K     |███████████████████████████▍    | 153kB 8.9MB/s eta 0:00:01\r\u001b[K     |█████████████████████████████▎  | 163kB 8.9MB/s eta 0:00:01\r\u001b[K     |███████████████████████████████ | 174kB 8.9MB/s eta 0:00:01\r\u001b[K     |████████████████████████████████| 184kB 8.9MB/s \n",
            "\u001b[?25hRequirement already satisfied: absl-py in /usr/local/lib/python3.7/dist-packages (from jax) (0.12.0)\n",
            "Requirement already satisfied: numpy>=1.12 in /usr/local/lib/python3.7/dist-packages (from jax) (1.19.5)\n",
            "Requirement already satisfied: opt-einsum in /usr/local/lib/python3.7/dist-packages (from jax) (3.3.0)\n",
            "Requirement already satisfied: flatbuffers in /usr/local/lib/python3.7/dist-packages (from jaxlib) (1.12)\n",
            "Requirement already satisfied: scipy in /usr/local/lib/python3.7/dist-packages (from jaxlib) (1.4.1)\n",
            "Requirement already satisfied: matplotlib in /usr/local/lib/python3.7/dist-packages (from flax) (3.2.2)\n",
            "Requirement already satisfied: msgpack in /usr/local/lib/python3.7/dist-packages (from flax) (1.0.2)\n",
            "Requirement already satisfied: six in /usr/local/lib/python3.7/dist-packages (from absl-py->jax) (1.15.0)\n",
            "Requirement already satisfied: kiwisolver>=1.0.1 in /usr/local/lib/python3.7/dist-packages (from matplotlib->flax) (1.3.1)\n",
            "Requirement already satisfied: cycler>=0.10 in /usr/local/lib/python3.7/dist-packages (from matplotlib->flax) (0.10.0)\n",
            "Requirement already satisfied: pyparsing!=2.0.4,!=2.1.2,!=2.1.6,>=2.0.1 in /usr/local/lib/python3.7/dist-packages (from matplotlib->flax) (2.4.7)\n",
            "Requirement already satisfied: python-dateutil>=2.1 in /usr/local/lib/python3.7/dist-packages (from matplotlib->flax) (2.8.1)\n",
            "Installing collected packages: flax\n",
            "Successfully installed flax-0.3.3\n"
          ],
          "name": "stdout"
        }
      ]
    },
    {
      "cell_type": "markdown",
      "metadata": {
        "id": "GTwyWyR6M91-"
      },
      "source": [
        "## jax.numpy and numpy\n",
        "---\n"
      ]
    },
    {
      "cell_type": "code",
      "metadata": {
        "id": "KSTJ6982NEFs"
      },
      "source": [
        "import numpy as np\n",
        "import jax.numpy as jnp"
      ],
      "execution_count": null,
      "outputs": []
    },
    {
      "cell_type": "code",
      "metadata": {
        "id": "1JNDcmXNNY9M",
        "colab": {
          "base_uri": "https://localhost:8080/"
        },
        "outputId": "346f135c-5bfc-42f9-dea6-df392b7a4972"
      },
      "source": [
        "jax_array = jnp.zeros((3,3), dtype=jnp.float32) \n"
      ],
      "execution_count": null,
      "outputs": [
        {
          "output_type": "stream",
          "text": [
            "WARNING:absl:No GPU/TPU found, falling back to CPU. (Set TF_CPP_MIN_LOG_LEVEL=0 and rerun for more info.)\n"
          ],
          "name": "stderr"
        }
      ]
    },
    {
      "cell_type": "code",
      "metadata": {
        "colab": {
          "base_uri": "https://localhost:8080/",
          "height": 304
        },
        "id": "1-KLeeoxNahG",
        "outputId": "75dba4c0-e3d7-4565-c5c1-43c43eba0208"
      },
      "source": [
        "jax_array[0,0]=1 # This will throw an error"
      ],
      "execution_count": null,
      "outputs": [
        {
          "output_type": "error",
          "ename": "TypeError",
          "evalue": "ignored",
          "traceback": [
            "\u001b[0;31m---------------------------------------------------------------------------\u001b[0m",
            "\u001b[0;31mTypeError\u001b[0m                                 Traceback (most recent call last)",
            "\u001b[0;32m<ipython-input-5-69ff96fac7f8>\u001b[0m in \u001b[0;36m<module>\u001b[0;34m()\u001b[0m\n\u001b[0;32m----> 1\u001b[0;31m \u001b[0mjax_array\u001b[0m\u001b[0;34m[\u001b[0m\u001b[0;36m0\u001b[0m\u001b[0;34m,\u001b[0m\u001b[0;36m0\u001b[0m\u001b[0;34m]\u001b[0m\u001b[0;34m=\u001b[0m\u001b[0;36m1\u001b[0m \u001b[0;31m# This will throw an error\u001b[0m\u001b[0;34m\u001b[0m\u001b[0;34m\u001b[0m\u001b[0m\n\u001b[0m",
            "\u001b[0;32m/usr/local/lib/python3.7/dist-packages/jax/_src/numpy/lax_numpy.py\u001b[0m in \u001b[0;36m_unimplemented_setitem\u001b[0;34m(self, i, x)\u001b[0m\n\u001b[1;32m   5378\u001b[0m          \u001b[0;34m\"immutable; perhaps you want jax.ops.index_update or \"\u001b[0m\u001b[0;34m\u001b[0m\u001b[0;34m\u001b[0m\u001b[0m\n\u001b[1;32m   5379\u001b[0m          \"jax.ops.index_add instead?\")\n\u001b[0;32m-> 5380\u001b[0;31m   \u001b[0;32mraise\u001b[0m \u001b[0mTypeError\u001b[0m\u001b[0;34m(\u001b[0m\u001b[0mmsg\u001b[0m\u001b[0;34m.\u001b[0m\u001b[0mformat\u001b[0m\u001b[0;34m(\u001b[0m\u001b[0mtype\u001b[0m\u001b[0;34m(\u001b[0m\u001b[0mself\u001b[0m\u001b[0;34m)\u001b[0m\u001b[0;34m)\u001b[0m\u001b[0;34m)\u001b[0m\u001b[0;34m\u001b[0m\u001b[0;34m\u001b[0m\u001b[0m\n\u001b[0m\u001b[1;32m   5381\u001b[0m \u001b[0;34m\u001b[0m\u001b[0m\n\u001b[1;32m   5382\u001b[0m \u001b[0;32mdef\u001b[0m \u001b[0m_operator_round\u001b[0m\u001b[0;34m(\u001b[0m\u001b[0mnumber\u001b[0m\u001b[0;34m,\u001b[0m \u001b[0mndigits\u001b[0m\u001b[0;34m=\u001b[0m\u001b[0;32mNone\u001b[0m\u001b[0;34m)\u001b[0m\u001b[0;34m:\u001b[0m\u001b[0;34m\u001b[0m\u001b[0;34m\u001b[0m\u001b[0m\n",
            "\u001b[0;31mTypeError\u001b[0m: '<class 'jaxlib.xla_extension.DeviceArray'>' object does not support item assignment. JAX arrays are immutable; perhaps you want jax.ops.index_update or jax.ops.index_add instead?"
          ]
        }
      ]
    },
    {
      "cell_type": "code",
      "metadata": {
        "id": "t4adZqi_NiEL"
      },
      "source": [
        "from jax.ops import index, index_add, index_update"
      ],
      "execution_count": null,
      "outputs": []
    },
    {
      "cell_type": "code",
      "metadata": {
        "colab": {
          "base_uri": "https://localhost:8080/"
        },
        "id": "4gFlNlpUNibV",
        "outputId": "50bfad90-2152-4b1a-ef30-5a3241648b97"
      },
      "source": [
        "new_jax_array = index_update(jax_array, index[1, :], 1.)\n",
        "new_jax_array"
      ],
      "execution_count": null,
      "outputs": [
        {
          "output_type": "execute_result",
          "data": {
            "text/plain": [
              "DeviceArray([[0., 0., 0.],\n",
              "             [1., 1., 1.],\n",
              "             [0., 0., 0.]], dtype=float32)"
            ]
          },
          "metadata": {
            "tags": []
          },
          "execution_count": 7
        }
      ]
    },
    {
      "cell_type": "code",
      "metadata": {
        "colab": {
          "base_uri": "https://localhost:8080/"
        },
        "id": "a4cZVJePOFV7",
        "outputId": "0f9dfebe-6b47-41df-9076-564f04a10373"
      },
      "source": [
        "new_jax_array = index_add(new_jax_array, index[1, :], 1)\n",
        "new_jax_array"
      ],
      "execution_count": null,
      "outputs": [
        {
          "output_type": "execute_result",
          "data": {
            "text/plain": [
              "DeviceArray([[0., 0., 0.],\n",
              "             [2., 2., 2.],\n",
              "             [0., 0., 0.]], dtype=float32)"
            ]
          },
          "metadata": {
            "tags": []
          },
          "execution_count": 8
        }
      ]
    },
    {
      "cell_type": "code",
      "metadata": {
        "id": "Zm9EzFujPTxD"
      },
      "source": [
        "from jax import random\n",
        "key = random.PRNGKey(0)"
      ],
      "execution_count": null,
      "outputs": []
    },
    {
      "cell_type": "code",
      "metadata": {
        "colab": {
          "base_uri": "https://localhost:8080/"
        },
        "id": "GSJOMZkuPX5w",
        "outputId": "ba8084f2-662b-42ef-805d-8d3bf64f6ec8"
      },
      "source": [
        "print(random.normal(key, shape=(1,)))\n",
        "# Unlike numpy, this will give the exact same results;\n",
        "print(random.normal(key, shape=(1,)))"
      ],
      "execution_count": null,
      "outputs": [
        {
          "output_type": "stream",
          "text": [
            "[-0.20584235]\n",
            "[-0.20584235]\n"
          ],
          "name": "stdout"
        }
      ]
    },
    {
      "cell_type": "code",
      "metadata": {
        "colab": {
          "base_uri": "https://localhost:8080/"
        },
        "id": "pSDit9UWPksB",
        "outputId": "e5fc4112-d80e-4066-c591-54c7c55f8b39"
      },
      "source": [
        "key, subkey = random.split(key)\n",
        "print(random.normal(key, shape=(1,)))\n",
        "print(random.normal(subkey, shape=(1,)))"
      ],
      "execution_count": null,
      "outputs": [
        {
          "output_type": "stream",
          "text": [
            "[0.14389044]\n",
            "[-1.2515389]\n"
          ],
          "name": "stdout"
        }
      ]
    },
    {
      "cell_type": "code",
      "metadata": {
        "colab": {
          "base_uri": "https://localhost:8080/"
        },
        "id": "28UIfuPvQA56",
        "outputId": "7408d460-b546-4a6c-eccf-2ae2ff848c4b"
      },
      "source": [
        "jnp.add(jax_array, 1) # works"
      ],
      "execution_count": null,
      "outputs": [
        {
          "output_type": "execute_result",
          "data": {
            "text/plain": [
              "DeviceArray([[1., 1., 1.],\n",
              "             [1., 1., 1.],\n",
              "             [1., 1., 1.]], dtype=float32)"
            ]
          },
          "metadata": {
            "tags": []
          },
          "execution_count": 12
        }
      ]
    },
    {
      "cell_type": "code",
      "metadata": {
        "colab": {
          "base_uri": "https://localhost:8080/",
          "height": 328
        },
        "id": "1AFVt8vlQi2t",
        "outputId": "b587a1da-72af-4ae8-a29c-0fef103a7651"
      },
      "source": [
        "from jax import lax\n",
        "lax.add(jax_array, 1) # nope"
      ],
      "execution_count": null,
      "outputs": [
        {
          "output_type": "error",
          "ename": "TypeError",
          "evalue": "ignored",
          "traceback": [
            "\u001b[0;31m---------------------------------------------------------------------------\u001b[0m",
            "\u001b[0;31mTypeError\u001b[0m                                 Traceback (most recent call last)",
            "\u001b[0;32m<ipython-input-13-28b7f44dba19>\u001b[0m in \u001b[0;36m<module>\u001b[0;34m()\u001b[0m\n\u001b[1;32m      1\u001b[0m \u001b[0;32mfrom\u001b[0m \u001b[0mjax\u001b[0m \u001b[0;32mimport\u001b[0m \u001b[0mlax\u001b[0m\u001b[0;34m\u001b[0m\u001b[0;34m\u001b[0m\u001b[0m\n\u001b[0;32m----> 2\u001b[0;31m \u001b[0mlax\u001b[0m\u001b[0;34m.\u001b[0m\u001b[0madd\u001b[0m\u001b[0;34m(\u001b[0m\u001b[0mjax_array\u001b[0m\u001b[0;34m,\u001b[0m \u001b[0;36m1\u001b[0m\u001b[0;34m)\u001b[0m \u001b[0;31m# nope\u001b[0m\u001b[0;34m\u001b[0m\u001b[0;34m\u001b[0m\u001b[0m\n\u001b[0m",
            "\u001b[0;32m/usr/local/lib/python3.7/dist-packages/jax/_src/lax/lax.py\u001b[0m in \u001b[0;36madd\u001b[0;34m(x, y)\u001b[0m\n\u001b[1;32m    342\u001b[0m \u001b[0;32mdef\u001b[0m \u001b[0madd\u001b[0m\u001b[0;34m(\u001b[0m\u001b[0mx\u001b[0m\u001b[0;34m:\u001b[0m \u001b[0mArray\u001b[0m\u001b[0;34m,\u001b[0m \u001b[0my\u001b[0m\u001b[0;34m:\u001b[0m \u001b[0mArray\u001b[0m\u001b[0;34m)\u001b[0m \u001b[0;34m->\u001b[0m \u001b[0mArray\u001b[0m\u001b[0;34m:\u001b[0m\u001b[0;34m\u001b[0m\u001b[0;34m\u001b[0m\u001b[0m\n\u001b[1;32m    343\u001b[0m   \u001b[0;34mr\"\"\"Elementwise addition: :math:`x + y`.\"\"\"\u001b[0m\u001b[0;34m\u001b[0m\u001b[0;34m\u001b[0m\u001b[0m\n\u001b[0;32m--> 344\u001b[0;31m   \u001b[0;32mreturn\u001b[0m \u001b[0madd_p\u001b[0m\u001b[0;34m.\u001b[0m\u001b[0mbind\u001b[0m\u001b[0;34m(\u001b[0m\u001b[0mx\u001b[0m\u001b[0;34m,\u001b[0m \u001b[0my\u001b[0m\u001b[0;34m)\u001b[0m\u001b[0;34m\u001b[0m\u001b[0;34m\u001b[0m\u001b[0m\n\u001b[0m\u001b[1;32m    345\u001b[0m \u001b[0;34m\u001b[0m\u001b[0m\n\u001b[1;32m    346\u001b[0m \u001b[0;32mdef\u001b[0m \u001b[0msub\u001b[0m\u001b[0;34m(\u001b[0m\u001b[0mx\u001b[0m\u001b[0;34m:\u001b[0m \u001b[0mArray\u001b[0m\u001b[0;34m,\u001b[0m \u001b[0my\u001b[0m\u001b[0;34m:\u001b[0m \u001b[0mArray\u001b[0m\u001b[0;34m)\u001b[0m \u001b[0;34m->\u001b[0m \u001b[0mArray\u001b[0m\u001b[0;34m:\u001b[0m\u001b[0;34m\u001b[0m\u001b[0;34m\u001b[0m\u001b[0m\n",
            "\u001b[0;32m/usr/local/lib/python3.7/dist-packages/jax/core.py\u001b[0m in \u001b[0;36mbind\u001b[0;34m(self, *args, **params)\u001b[0m\n\u001b[1;32m    257\u001b[0m     \u001b[0mtop_trace\u001b[0m \u001b[0;34m=\u001b[0m \u001b[0mfind_top_trace\u001b[0m\u001b[0;34m(\u001b[0m\u001b[0margs\u001b[0m\u001b[0;34m)\u001b[0m\u001b[0;34m\u001b[0m\u001b[0;34m\u001b[0m\u001b[0m\n\u001b[1;32m    258\u001b[0m     \u001b[0mtracers\u001b[0m \u001b[0;34m=\u001b[0m \u001b[0mmap\u001b[0m\u001b[0;34m(\u001b[0m\u001b[0mtop_trace\u001b[0m\u001b[0;34m.\u001b[0m\u001b[0mfull_raise\u001b[0m\u001b[0;34m,\u001b[0m \u001b[0margs\u001b[0m\u001b[0;34m)\u001b[0m\u001b[0;34m\u001b[0m\u001b[0;34m\u001b[0m\u001b[0m\n\u001b[0;32m--> 259\u001b[0;31m     \u001b[0mout\u001b[0m \u001b[0;34m=\u001b[0m \u001b[0mtop_trace\u001b[0m\u001b[0;34m.\u001b[0m\u001b[0mprocess_primitive\u001b[0m\u001b[0;34m(\u001b[0m\u001b[0mself\u001b[0m\u001b[0;34m,\u001b[0m \u001b[0mtracers\u001b[0m\u001b[0;34m,\u001b[0m \u001b[0mparams\u001b[0m\u001b[0;34m)\u001b[0m\u001b[0;34m\u001b[0m\u001b[0;34m\u001b[0m\u001b[0m\n\u001b[0m\u001b[1;32m    260\u001b[0m     \u001b[0;32mreturn\u001b[0m \u001b[0mmap\u001b[0m\u001b[0;34m(\u001b[0m\u001b[0mfull_lower\u001b[0m\u001b[0;34m,\u001b[0m \u001b[0mout\u001b[0m\u001b[0;34m)\u001b[0m \u001b[0;32mif\u001b[0m \u001b[0mself\u001b[0m\u001b[0;34m.\u001b[0m\u001b[0mmultiple_results\u001b[0m \u001b[0;32melse\u001b[0m \u001b[0mfull_lower\u001b[0m\u001b[0;34m(\u001b[0m\u001b[0mout\u001b[0m\u001b[0;34m)\u001b[0m\u001b[0;34m\u001b[0m\u001b[0;34m\u001b[0m\u001b[0m\n\u001b[1;32m    261\u001b[0m \u001b[0;34m\u001b[0m\u001b[0m\n",
            "\u001b[0;32m/usr/local/lib/python3.7/dist-packages/jax/core.py\u001b[0m in \u001b[0;36mprocess_primitive\u001b[0;34m(self, primitive, tracers, params)\u001b[0m\n\u001b[1;32m    595\u001b[0m \u001b[0;34m\u001b[0m\u001b[0m\n\u001b[1;32m    596\u001b[0m   \u001b[0;32mdef\u001b[0m \u001b[0mprocess_primitive\u001b[0m\u001b[0;34m(\u001b[0m\u001b[0mself\u001b[0m\u001b[0;34m,\u001b[0m \u001b[0mprimitive\u001b[0m\u001b[0;34m,\u001b[0m \u001b[0mtracers\u001b[0m\u001b[0;34m,\u001b[0m \u001b[0mparams\u001b[0m\u001b[0;34m)\u001b[0m\u001b[0;34m:\u001b[0m\u001b[0;34m\u001b[0m\u001b[0;34m\u001b[0m\u001b[0m\n\u001b[0;32m--> 597\u001b[0;31m     \u001b[0;32mreturn\u001b[0m \u001b[0mprimitive\u001b[0m\u001b[0;34m.\u001b[0m\u001b[0mimpl\u001b[0m\u001b[0;34m(\u001b[0m\u001b[0;34m*\u001b[0m\u001b[0mtracers\u001b[0m\u001b[0;34m,\u001b[0m \u001b[0;34m**\u001b[0m\u001b[0mparams\u001b[0m\u001b[0;34m)\u001b[0m\u001b[0;34m\u001b[0m\u001b[0;34m\u001b[0m\u001b[0m\n\u001b[0m\u001b[1;32m    598\u001b[0m \u001b[0;34m\u001b[0m\u001b[0m\n\u001b[1;32m    599\u001b[0m   \u001b[0;32mdef\u001b[0m \u001b[0mprocess_call\u001b[0m\u001b[0;34m(\u001b[0m\u001b[0mself\u001b[0m\u001b[0;34m,\u001b[0m \u001b[0mprimitive\u001b[0m\u001b[0;34m,\u001b[0m \u001b[0mf\u001b[0m\u001b[0;34m,\u001b[0m \u001b[0mtracers\u001b[0m\u001b[0;34m,\u001b[0m \u001b[0mparams\u001b[0m\u001b[0;34m)\u001b[0m\u001b[0;34m:\u001b[0m\u001b[0;34m\u001b[0m\u001b[0;34m\u001b[0m\u001b[0m\n",
            "\u001b[0;32m/usr/local/lib/python3.7/dist-packages/jax/interpreters/xla.py\u001b[0m in \u001b[0;36mapply_primitive\u001b[0;34m(prim, *args, **params)\u001b[0m\n\u001b[1;32m    227\u001b[0m \u001b[0;32mdef\u001b[0m \u001b[0mapply_primitive\u001b[0m\u001b[0;34m(\u001b[0m\u001b[0mprim\u001b[0m\u001b[0;34m,\u001b[0m \u001b[0;34m*\u001b[0m\u001b[0margs\u001b[0m\u001b[0;34m,\u001b[0m \u001b[0;34m**\u001b[0m\u001b[0mparams\u001b[0m\u001b[0;34m)\u001b[0m\u001b[0;34m:\u001b[0m\u001b[0;34m\u001b[0m\u001b[0;34m\u001b[0m\u001b[0m\n\u001b[1;32m    228\u001b[0m   \u001b[0;34m\"\"\"Impl rule that compiles and runs a single primitive 'prim' using XLA.\"\"\"\u001b[0m\u001b[0;34m\u001b[0m\u001b[0;34m\u001b[0m\u001b[0m\n\u001b[0;32m--> 229\u001b[0;31m   \u001b[0mcompiled_fun\u001b[0m \u001b[0;34m=\u001b[0m \u001b[0mxla_primitive_callable\u001b[0m\u001b[0;34m(\u001b[0m\u001b[0mprim\u001b[0m\u001b[0;34m,\u001b[0m \u001b[0;34m*\u001b[0m\u001b[0munsafe_map\u001b[0m\u001b[0;34m(\u001b[0m\u001b[0marg_spec\u001b[0m\u001b[0;34m,\u001b[0m \u001b[0margs\u001b[0m\u001b[0;34m)\u001b[0m\u001b[0;34m,\u001b[0m \u001b[0;34m**\u001b[0m\u001b[0mparams\u001b[0m\u001b[0;34m)\u001b[0m\u001b[0;34m\u001b[0m\u001b[0;34m\u001b[0m\u001b[0m\n\u001b[0m\u001b[1;32m    230\u001b[0m   \u001b[0;32mreturn\u001b[0m \u001b[0mcompiled_fun\u001b[0m\u001b[0;34m(\u001b[0m\u001b[0;34m*\u001b[0m\u001b[0margs\u001b[0m\u001b[0;34m)\u001b[0m\u001b[0;34m\u001b[0m\u001b[0;34m\u001b[0m\u001b[0m\n\u001b[1;32m    231\u001b[0m \u001b[0;34m\u001b[0m\u001b[0m\n",
            "\u001b[0;32m/usr/local/lib/python3.7/dist-packages/jax/_src/util.py\u001b[0m in \u001b[0;36mwrapper\u001b[0;34m(*args, **kwargs)\u001b[0m\n\u001b[1;32m    183\u001b[0m         \u001b[0;32mreturn\u001b[0m \u001b[0mf\u001b[0m\u001b[0;34m(\u001b[0m\u001b[0;34m*\u001b[0m\u001b[0margs\u001b[0m\u001b[0;34m,\u001b[0m \u001b[0;34m**\u001b[0m\u001b[0mkwargs\u001b[0m\u001b[0;34m)\u001b[0m\u001b[0;34m\u001b[0m\u001b[0;34m\u001b[0m\u001b[0m\n\u001b[1;32m    184\u001b[0m       \u001b[0;32melse\u001b[0m\u001b[0;34m:\u001b[0m\u001b[0;34m\u001b[0m\u001b[0;34m\u001b[0m\u001b[0m\n\u001b[0;32m--> 185\u001b[0;31m         \u001b[0;32mreturn\u001b[0m \u001b[0mcached\u001b[0m\u001b[0;34m(\u001b[0m\u001b[0mbool\u001b[0m\u001b[0;34m(\u001b[0m\u001b[0mconfig\u001b[0m\u001b[0;34m.\u001b[0m\u001b[0mx64_enabled\u001b[0m\u001b[0;34m)\u001b[0m\u001b[0;34m,\u001b[0m \u001b[0;34m*\u001b[0m\u001b[0margs\u001b[0m\u001b[0;34m,\u001b[0m \u001b[0;34m**\u001b[0m\u001b[0mkwargs\u001b[0m\u001b[0;34m)\u001b[0m\u001b[0;34m\u001b[0m\u001b[0;34m\u001b[0m\u001b[0m\n\u001b[0m\u001b[1;32m    186\u001b[0m \u001b[0;34m\u001b[0m\u001b[0m\n\u001b[1;32m    187\u001b[0m     \u001b[0mwrapper\u001b[0m\u001b[0;34m.\u001b[0m\u001b[0mcache_clear\u001b[0m \u001b[0;34m=\u001b[0m \u001b[0mcached\u001b[0m\u001b[0;34m.\u001b[0m\u001b[0mcache_clear\u001b[0m\u001b[0;34m\u001b[0m\u001b[0;34m\u001b[0m\u001b[0m\n",
            "\u001b[0;32m/usr/local/lib/python3.7/dist-packages/jax/_src/util.py\u001b[0m in \u001b[0;36mcached\u001b[0;34m(_, *args, **kwargs)\u001b[0m\n\u001b[1;32m    176\u001b[0m     \u001b[0;34m@\u001b[0m\u001b[0mfunctools\u001b[0m\u001b[0;34m.\u001b[0m\u001b[0mlru_cache\u001b[0m\u001b[0;34m(\u001b[0m\u001b[0mmax_size\u001b[0m\u001b[0;34m)\u001b[0m\u001b[0;34m\u001b[0m\u001b[0;34m\u001b[0m\u001b[0m\n\u001b[1;32m    177\u001b[0m     \u001b[0;32mdef\u001b[0m \u001b[0mcached\u001b[0m\u001b[0;34m(\u001b[0m\u001b[0m_\u001b[0m\u001b[0;34m,\u001b[0m \u001b[0;34m*\u001b[0m\u001b[0margs\u001b[0m\u001b[0;34m,\u001b[0m \u001b[0;34m**\u001b[0m\u001b[0mkwargs\u001b[0m\u001b[0;34m)\u001b[0m\u001b[0;34m:\u001b[0m\u001b[0;34m\u001b[0m\u001b[0;34m\u001b[0m\u001b[0m\n\u001b[0;32m--> 178\u001b[0;31m       \u001b[0;32mreturn\u001b[0m \u001b[0mf\u001b[0m\u001b[0;34m(\u001b[0m\u001b[0;34m*\u001b[0m\u001b[0margs\u001b[0m\u001b[0;34m,\u001b[0m \u001b[0;34m**\u001b[0m\u001b[0mkwargs\u001b[0m\u001b[0;34m)\u001b[0m\u001b[0;34m\u001b[0m\u001b[0;34m\u001b[0m\u001b[0m\n\u001b[0m\u001b[1;32m    179\u001b[0m \u001b[0;34m\u001b[0m\u001b[0m\n\u001b[1;32m    180\u001b[0m     \u001b[0;34m@\u001b[0m\u001b[0mfunctools\u001b[0m\u001b[0;34m.\u001b[0m\u001b[0mwraps\u001b[0m\u001b[0;34m(\u001b[0m\u001b[0mf\u001b[0m\u001b[0;34m)\u001b[0m\u001b[0;34m\u001b[0m\u001b[0;34m\u001b[0m\u001b[0m\n",
            "\u001b[0;32m/usr/local/lib/python3.7/dist-packages/jax/interpreters/xla.py\u001b[0m in \u001b[0;36mxla_primitive_callable\u001b[0;34m(prim, *arg_specs, **params)\u001b[0m\n\u001b[1;32m    252\u001b[0m     return _xla_callable(lu.wrap_init(prim_fun), device, None, \"prim\", donated_invars,\n\u001b[1;32m    253\u001b[0m                          *arg_specs)\n\u001b[0;32m--> 254\u001b[0;31m   \u001b[0maval_out\u001b[0m \u001b[0;34m=\u001b[0m \u001b[0mprim\u001b[0m\u001b[0;34m.\u001b[0m\u001b[0mabstract_eval\u001b[0m\u001b[0;34m(\u001b[0m\u001b[0;34m*\u001b[0m\u001b[0mavals\u001b[0m\u001b[0;34m,\u001b[0m \u001b[0;34m**\u001b[0m\u001b[0mparams\u001b[0m\u001b[0;34m)\u001b[0m\u001b[0;34m\u001b[0m\u001b[0;34m\u001b[0m\u001b[0m\n\u001b[0m\u001b[1;32m    255\u001b[0m   \u001b[0;32mif\u001b[0m \u001b[0;32mnot\u001b[0m \u001b[0mprim\u001b[0m\u001b[0;34m.\u001b[0m\u001b[0mmultiple_results\u001b[0m\u001b[0;34m:\u001b[0m\u001b[0;34m\u001b[0m\u001b[0;34m\u001b[0m\u001b[0m\n\u001b[1;32m    256\u001b[0m     \u001b[0mhandle_result\u001b[0m \u001b[0;34m=\u001b[0m \u001b[0maval_to_result_handler\u001b[0m\u001b[0;34m(\u001b[0m\u001b[0mdevice\u001b[0m\u001b[0;34m,\u001b[0m \u001b[0maval_out\u001b[0m\u001b[0;34m)\u001b[0m\u001b[0;34m\u001b[0m\u001b[0;34m\u001b[0m\u001b[0m\n",
            "\u001b[0;32m/usr/local/lib/python3.7/dist-packages/jax/_src/lax/lax.py\u001b[0m in \u001b[0;36mstandard_abstract_eval\u001b[0;34m(prim, shape_rule, dtype_rule, weak_type_rule, named_shape_rule, *avals, **kwargs)\u001b[0m\n\u001b[1;32m   2021\u001b[0m                          weak_type=weak_type)\n\u001b[1;32m   2022\u001b[0m   \u001b[0;32melif\u001b[0m \u001b[0mleast_specialized\u001b[0m \u001b[0;32mis\u001b[0m \u001b[0mShapedArray\u001b[0m\u001b[0;34m:\u001b[0m\u001b[0;34m\u001b[0m\u001b[0;34m\u001b[0m\u001b[0m\n\u001b[0;32m-> 2023\u001b[0;31m     return ShapedArray(shape_rule(*avals, **kwargs), dtype_rule(*avals, **kwargs),\n\u001b[0m\u001b[1;32m   2024\u001b[0m                        \u001b[0mweak_type\u001b[0m\u001b[0;34m=\u001b[0m\u001b[0mweak_type\u001b[0m\u001b[0;34m,\u001b[0m\u001b[0;34m\u001b[0m\u001b[0;34m\u001b[0m\u001b[0m\n\u001b[1;32m   2025\u001b[0m                        named_shape=named_shape_rule(*avals, **kwargs))\n",
            "\u001b[0;32m/usr/local/lib/python3.7/dist-packages/jax/_src/lax/lax.py\u001b[0m in \u001b[0;36mnaryop_dtype_rule\u001b[0;34m(result_dtype, accepted_dtypes, name, *avals, **kwargs)\u001b[0m\n\u001b[1;32m   2103\u001b[0m         \u001b[0mtypenames\u001b[0m \u001b[0;34m=\u001b[0m \u001b[0;34m', '\u001b[0m\u001b[0;34m.\u001b[0m\u001b[0mjoin\u001b[0m\u001b[0;34m(\u001b[0m\u001b[0mt\u001b[0m\u001b[0;34m.\u001b[0m\u001b[0m__name__\u001b[0m \u001b[0;32mfor\u001b[0m \u001b[0mt\u001b[0m \u001b[0;32min\u001b[0m \u001b[0mtypes\u001b[0m\u001b[0;34m)\u001b[0m\u001b[0;34m\u001b[0m\u001b[0;34m\u001b[0m\u001b[0m\n\u001b[1;32m   2104\u001b[0m         \u001b[0;32mraise\u001b[0m \u001b[0mTypeError\u001b[0m\u001b[0;34m(\u001b[0m\u001b[0mmsg\u001b[0m\u001b[0;34m.\u001b[0m\u001b[0mformat\u001b[0m\u001b[0;34m(\u001b[0m\u001b[0mname\u001b[0m\u001b[0;34m,\u001b[0m \u001b[0mtypename\u001b[0m\u001b[0;34m,\u001b[0m \u001b[0mi\u001b[0m\u001b[0;34m,\u001b[0m \u001b[0mi\u001b[0m\u001b[0;34m,\u001b[0m \u001b[0mtypenames\u001b[0m\u001b[0;34m)\u001b[0m\u001b[0;34m)\u001b[0m\u001b[0;34m\u001b[0m\u001b[0;34m\u001b[0m\u001b[0m\n\u001b[0;32m-> 2105\u001b[0;31m   \u001b[0m_check_same_dtypes\u001b[0m\u001b[0;34m(\u001b[0m\u001b[0mname\u001b[0m\u001b[0;34m,\u001b[0m \u001b[0;32mFalse\u001b[0m\u001b[0;34m,\u001b[0m \u001b[0;34m*\u001b[0m\u001b[0maval_dtypes\u001b[0m\u001b[0;34m)\u001b[0m\u001b[0;34m\u001b[0m\u001b[0;34m\u001b[0m\u001b[0m\n\u001b[0m\u001b[1;32m   2106\u001b[0m   \u001b[0;32mreturn\u001b[0m \u001b[0mresult_dtype\u001b[0m\u001b[0;34m(\u001b[0m\u001b[0;34m*\u001b[0m\u001b[0mavals\u001b[0m\u001b[0;34m)\u001b[0m\u001b[0;34m\u001b[0m\u001b[0;34m\u001b[0m\u001b[0m\n\u001b[1;32m   2107\u001b[0m \u001b[0;34m\u001b[0m\u001b[0m\n",
            "\u001b[0;32m/usr/local/lib/python3.7/dist-packages/jax/_src/lax/lax.py\u001b[0m in \u001b[0;36m_check_same_dtypes\u001b[0;34m(name, ignore_fp_precision, *ttypes)\u001b[0m\n\u001b[1;32m   6266\u001b[0m     \u001b[0;32melse\u001b[0m\u001b[0;34m:\u001b[0m\u001b[0;34m\u001b[0m\u001b[0;34m\u001b[0m\u001b[0m\n\u001b[1;32m   6267\u001b[0m       \u001b[0mmsg\u001b[0m \u001b[0;34m=\u001b[0m \u001b[0;34m\"{} requires arguments to have the same dtypes, got {}.\"\u001b[0m\u001b[0;34m\u001b[0m\u001b[0;34m\u001b[0m\u001b[0m\n\u001b[0;32m-> 6268\u001b[0;31m     \u001b[0;32mraise\u001b[0m \u001b[0mTypeError\u001b[0m\u001b[0;34m(\u001b[0m\u001b[0mmsg\u001b[0m\u001b[0;34m.\u001b[0m\u001b[0mformat\u001b[0m\u001b[0;34m(\u001b[0m\u001b[0mname\u001b[0m\u001b[0;34m,\u001b[0m \u001b[0;34m\", \"\u001b[0m\u001b[0;34m.\u001b[0m\u001b[0mjoin\u001b[0m\u001b[0;34m(\u001b[0m\u001b[0mmap\u001b[0m\u001b[0;34m(\u001b[0m\u001b[0mstr\u001b[0m\u001b[0;34m,\u001b[0m \u001b[0mtypes\u001b[0m\u001b[0;34m)\u001b[0m\u001b[0;34m)\u001b[0m\u001b[0;34m)\u001b[0m\u001b[0;34m)\u001b[0m\u001b[0;34m\u001b[0m\u001b[0;34m\u001b[0m\u001b[0m\n\u001b[0m\u001b[1;32m   6269\u001b[0m \u001b[0;34m\u001b[0m\u001b[0m\n\u001b[1;32m   6270\u001b[0m \u001b[0;34m\u001b[0m\u001b[0m\n",
            "\u001b[0;31mTypeError\u001b[0m: add requires arguments to have the same dtypes, got float32, int32."
          ]
        }
      ]
    },
    {
      "cell_type": "code",
      "metadata": {
        "colab": {
          "base_uri": "https://localhost:8080/"
        },
        "id": "syhWvJGfQneK",
        "outputId": "e3ecbd4a-3df9-42d1-dd2d-681178e9e681"
      },
      "source": [
        "lax.add(jax_array, 1.0)"
      ],
      "execution_count": null,
      "outputs": [
        {
          "output_type": "execute_result",
          "data": {
            "text/plain": [
              "DeviceArray([[1., 1., 1.],\n",
              "             [1., 1., 1.],\n",
              "             [1., 1., 1.]], dtype=float32)"
            ]
          },
          "metadata": {
            "tags": []
          },
          "execution_count": 14
        }
      ]
    },
    {
      "cell_type": "code",
      "metadata": {
        "colab": {
          "base_uri": "https://localhost:8080/"
        },
        "id": "TwrgwprVREZT",
        "outputId": "2c53bf49-ff66-4c70-b407-34c690684f3e"
      },
      "source": [
        "x = random.uniform(random.PRNGKey(0), (1000,), dtype=jnp.float64)\n",
        "x.dtype # This will not work!\n"
      ],
      "execution_count": null,
      "outputs": [
        {
          "output_type": "execute_result",
          "data": {
            "text/plain": [
              "dtype('float32')"
            ]
          },
          "metadata": {
            "tags": []
          },
          "execution_count": 15
        }
      ]
    },
    {
      "cell_type": "code",
      "metadata": {
        "id": "OMhYEb_eRP5y"
      },
      "source": [
        "# from jax.config import config\n",
        "# config.update(\"jax_enable_x64\", True)\n",
        "# Must run the above commands on start-up to use float64."
      ],
      "execution_count": null,
      "outputs": []
    },
    {
      "cell_type": "markdown",
      "metadata": {
        "id": "JzGISafRksXx"
      },
      "source": [
        "## JIT simple example\n",
        "---\n",
        "This is a simple example of using `jit` functionality in Jax. Note that if you run the code twice, things will be different."
      ]
    },
    {
      "cell_type": "code",
      "metadata": {
        "id": "KF1tij_SlUZz"
      },
      "source": [
        "import numpy as np\n",
        "import jax.numpy as jnp\n",
        "from jax import jit"
      ],
      "execution_count": null,
      "outputs": []
    },
    {
      "cell_type": "code",
      "metadata": {
        "id": "iB0ewe6QiK-6"
      },
      "source": [
        "@jit\n",
        "def f(x, y):\n",
        "  print(\"Running f():\")\n",
        "  print(f\"  x = {x}\")\n",
        "  print(f\"  y = {y}\")\n",
        "  result = jnp.dot(x + 1, y + 1)\n",
        "  print(f\"  result = {result}\")\n",
        "  return result\n",
        "\n",
        "x = np.random.randn(3, 4)\n",
        "y = np.random.randn(4)\n"
      ],
      "execution_count": null,
      "outputs": []
    },
    {
      "cell_type": "code",
      "metadata": {
        "colab": {
          "base_uri": "https://localhost:8080/"
        },
        "id": "71RZdCA5lLbg",
        "outputId": "b870147a-0b2a-4c43-88f7-838fab7704e1"
      },
      "source": [
        "f(x, y)"
      ],
      "execution_count": null,
      "outputs": [
        {
          "output_type": "stream",
          "text": [
            "Running f():\n",
            "  x = Traced<ShapedArray(float32[3,4])>with<DynamicJaxprTrace(level=0/1)>\n",
            "  y = Traced<ShapedArray(float32[4])>with<DynamicJaxprTrace(level=0/1)>\n",
            "  result = Traced<ShapedArray(float32[3])>with<DynamicJaxprTrace(level=0/1)>\n"
          ],
          "name": "stdout"
        },
        {
          "output_type": "execute_result",
          "data": {
            "text/plain": [
              "DeviceArray([1.1194923, 2.7518752, 3.0375113], dtype=float32)"
            ]
          },
          "metadata": {
            "tags": []
          },
          "execution_count": 19
        }
      ]
    },
    {
      "cell_type": "markdown",
      "metadata": {
        "id": "UT0rqZbyS7Zr"
      },
      "source": [
        "### Pure functions and jit"
      ]
    },
    {
      "cell_type": "code",
      "metadata": {
        "colab": {
          "base_uri": "https://localhost:8080/"
        },
        "id": "HkArl3NflR7C",
        "outputId": "64df39c4-8be9-4e9c-8c5d-63fee537aee5"
      },
      "source": [
        "g = 0.\n",
        "def impure_uses_globals(x):\n",
        "  return x + g\n",
        "\n",
        "print (\"First call: \", jit(impure_uses_globals)(4.))\n",
        "g = 10.  \n",
        "print (\"Second call: \", jit(impure_uses_globals)(5.))\n",
        "print (\"Third call, different type: \", jit(impure_uses_globals)(jnp.array([4.])))\n",
        "\n",
        "# Question: Why does this happen?"
      ],
      "execution_count": null,
      "outputs": [
        {
          "output_type": "stream",
          "text": [
            "First call:  4.0\n",
            "Second call:  5.0\n",
            "Third call, different type:  [14.]\n"
          ],
          "name": "stdout"
        }
      ]
    },
    {
      "cell_type": "code",
      "metadata": {
        "id": "C3QHIZRYlTNC",
        "colab": {
          "base_uri": "https://localhost:8080/"
        },
        "outputId": "879b3cdf-b0fd-42ea-ed04-e89ff19d2369"
      },
      "source": [
        "g = 0.\n",
        "def impure_saves_global(x):\n",
        "  global g\n",
        "  g = x\n",
        "  return x\n",
        "\n",
        "print (\"First call: \", jit(impure_saves_global)(4.))\n",
        "print (\"Saved global: \", g)  \n"
      ],
      "execution_count": null,
      "outputs": [
        {
          "output_type": "stream",
          "text": [
            "First call:  4.0\n",
            "Saved global:  Traced<ShapedArray(float32[], weak_type=True)>with<DynamicJaxprTrace(level=0/1)>\n"
          ],
          "name": "stdout"
        }
      ]
    },
    {
      "cell_type": "code",
      "metadata": {
        "colab": {
          "base_uri": "https://localhost:8080/"
        },
        "id": "F64rdP3IPjcq",
        "outputId": "e560c9c4-56ba-4dc4-966c-af32a4ee2c7e"
      },
      "source": [
        "array = jnp.arange(10)\n",
        "print(lax.fori_loop(0, 10, lambda i,x: x+array[i], 0)) # expected result 45\n",
        "iterator = iter(range(10))\n",
        "print(lax.fori_loop(0, 10, lambda i,x: x+next(iterator), 0)) # unexpected result 0"
      ],
      "execution_count": null,
      "outputs": [
        {
          "output_type": "stream",
          "text": [
            "45\n",
            "0\n"
          ],
          "name": "stdout"
        }
      ]
    },
    {
      "cell_type": "code",
      "metadata": {
        "colab": {
          "base_uri": "https://localhost:8080/"
        },
        "id": "PvMEIja6TzuF",
        "outputId": "376a0e1c-c041-4a45-8a55-fbf88937bb32"
      },
      "source": [
        "# This works\n",
        "class Counter:\n",
        "  \"\"\"A simple counter.\"\"\"\n",
        "\n",
        "  def __init__(self):\n",
        "    self.n = 0\n",
        "\n",
        "  def count(self) -> int:\n",
        "    \"\"\"Increments the counter and returns the new value.\"\"\"\n",
        "    self.n += 1\n",
        "    return self.n\n",
        "\n",
        "  def reset(self):\n",
        "    \"\"\"Resets the counter to zero.\"\"\"\n",
        "    self.n = 0\n",
        "\n",
        "\n",
        "counter = Counter()\n",
        "\n",
        "for _ in range(3):\n",
        "  print(counter.count())"
      ],
      "execution_count": null,
      "outputs": [
        {
          "output_type": "stream",
          "text": [
            "1\n",
            "2\n",
            "3\n"
          ],
          "name": "stdout"
        }
      ]
    },
    {
      "cell_type": "code",
      "metadata": {
        "colab": {
          "base_uri": "https://localhost:8080/"
        },
        "id": "lapqaj7wUDZt",
        "outputId": "0fab97e8-f9f0-4070-c5fe-85cac0dcf63b"
      },
      "source": [
        "# Doesn't work\n",
        "counter.reset()\n",
        "fast_count = jit(counter.count)\n",
        "\n",
        "for _ in range(3):\n",
        "  print(fast_count())"
      ],
      "execution_count": null,
      "outputs": [
        {
          "output_type": "stream",
          "text": [
            "1\n",
            "1\n",
            "1\n"
          ],
          "name": "stdout"
        }
      ]
    },
    {
      "cell_type": "code",
      "metadata": {
        "id": "_pQt3FdfURc5",
        "colab": {
          "base_uri": "https://localhost:8080/",
          "height": 236
        },
        "outputId": "99d50118-a36f-4fb7-8aaf-e123d09ea5b3"
      },
      "source": [
        "from typing import Tuple\n",
        "\n",
        "CounterState = int\n",
        "\n",
        "class CounterV2:\n",
        "\n",
        "  def count(self, n: CounterState) -> Tuple[int, CounterState]:\n",
        "    return n+1, n+1\n",
        "\n",
        "  def reset(self) -> CounterState:\n",
        "    return 0\n",
        "\n",
        "counter = CounterV2()\n",
        "state = counter.reset()\n",
        "\n",
        "fast_count = jax.jit(counter.count)\n",
        "\n",
        "for _ in range(3):\n",
        "  value, state = fast_count(state)\n",
        "  print(value)"
      ],
      "execution_count": null,
      "outputs": [
        {
          "output_type": "error",
          "ename": "NameError",
          "evalue": "ignored",
          "traceback": [
            "\u001b[0;31m---------------------------------------------------------------------------\u001b[0m",
            "\u001b[0;31mNameError\u001b[0m                                 Traceback (most recent call last)",
            "\u001b[0;32m<ipython-input-25-0f29311934dd>\u001b[0m in \u001b[0;36m<module>\u001b[0;34m()\u001b[0m\n\u001b[1;32m     14\u001b[0m \u001b[0mstate\u001b[0m \u001b[0;34m=\u001b[0m \u001b[0mcounter\u001b[0m\u001b[0;34m.\u001b[0m\u001b[0mreset\u001b[0m\u001b[0;34m(\u001b[0m\u001b[0;34m)\u001b[0m\u001b[0;34m\u001b[0m\u001b[0;34m\u001b[0m\u001b[0m\n\u001b[1;32m     15\u001b[0m \u001b[0;34m\u001b[0m\u001b[0m\n\u001b[0;32m---> 16\u001b[0;31m \u001b[0mfast_count\u001b[0m \u001b[0;34m=\u001b[0m \u001b[0mjax\u001b[0m\u001b[0;34m.\u001b[0m\u001b[0mjit\u001b[0m\u001b[0;34m(\u001b[0m\u001b[0mcounter\u001b[0m\u001b[0;34m.\u001b[0m\u001b[0mcount\u001b[0m\u001b[0;34m)\u001b[0m\u001b[0;34m\u001b[0m\u001b[0;34m\u001b[0m\u001b[0m\n\u001b[0m\u001b[1;32m     17\u001b[0m \u001b[0;34m\u001b[0m\u001b[0m\n\u001b[1;32m     18\u001b[0m \u001b[0;32mfor\u001b[0m \u001b[0m_\u001b[0m \u001b[0;32min\u001b[0m \u001b[0mrange\u001b[0m\u001b[0;34m(\u001b[0m\u001b[0;36m3\u001b[0m\u001b[0;34m)\u001b[0m\u001b[0;34m:\u001b[0m\u001b[0;34m\u001b[0m\u001b[0;34m\u001b[0m\u001b[0m\n",
            "\u001b[0;31mNameError\u001b[0m: name 'jax' is not defined"
          ]
        }
      ]
    },
    {
      "cell_type": "markdown",
      "metadata": {
        "id": "XmCcOJXoU2Gd"
      },
      "source": [
        "### Tracing and static variables/operations in jit\n"
      ]
    },
    {
      "cell_type": "code",
      "metadata": {
        "id": "Qn2i7fPpU45F"
      },
      "source": [
        "# This will NOT work!\n",
        "@jit\n",
        "def f(x, neg):\n",
        "  return -x if neg else x\n",
        "\n",
        "f(1, True)"
      ],
      "execution_count": null,
      "outputs": []
    },
    {
      "cell_type": "code",
      "metadata": {
        "colab": {
          "base_uri": "https://localhost:8080/"
        },
        "id": "veqiC3HlXbZZ",
        "outputId": "2f748acc-540c-483f-a239-2edec8292fd1"
      },
      "source": [
        "# This works\n",
        "from functools import partial\n",
        "\n",
        "@partial(jit, static_argnums=(1,))\n",
        "def f(x, neg):\n",
        "  return -x if neg else x\n",
        "\n",
        "f(1, True)"
      ],
      "execution_count": null,
      "outputs": [
        {
          "output_type": "execute_result",
          "data": {
            "text/plain": [
              "DeviceArray(-1, dtype=int32)"
            ]
          },
          "metadata": {
            "tags": []
          },
          "execution_count": 26
        }
      ]
    },
    {
      "cell_type": "code",
      "metadata": {
        "colab": {
          "base_uri": "https://localhost:8080/",
          "height": 719
        },
        "id": "pWknvipGXr-c",
        "outputId": "cca5fc8b-49c4-46e1-eae8-861001d5edf6"
      },
      "source": [
        "# This doesn't work\n",
        "@jit\n",
        "def f(x):\n",
        "  return x.reshape(jnp.array(x.shape).prod())\n",
        "\n",
        "x = jnp.ones((2, 3))\n",
        "f(x)"
      ],
      "execution_count": null,
      "outputs": [
        {
          "output_type": "error",
          "ename": "ConcretizationTypeError",
          "evalue": "ignored",
          "traceback": [
            "\u001b[0;31m---------------------------------------------------------------------------\u001b[0m",
            "\u001b[0;31mFilteredStackTrace\u001b[0m                        Traceback (most recent call last)",
            "\u001b[0;32m<ipython-input-27-ae4680b93359>\u001b[0m in \u001b[0;36m<module>\u001b[0;34m()\u001b[0m\n\u001b[1;32m      6\u001b[0m \u001b[0mx\u001b[0m \u001b[0;34m=\u001b[0m \u001b[0mjnp\u001b[0m\u001b[0;34m.\u001b[0m\u001b[0mones\u001b[0m\u001b[0;34m(\u001b[0m\u001b[0;34m(\u001b[0m\u001b[0;36m2\u001b[0m\u001b[0;34m,\u001b[0m \u001b[0;36m3\u001b[0m\u001b[0;34m)\u001b[0m\u001b[0;34m)\u001b[0m\u001b[0;34m\u001b[0m\u001b[0;34m\u001b[0m\u001b[0m\n\u001b[0;32m----> 7\u001b[0;31m \u001b[0mf\u001b[0m\u001b[0;34m(\u001b[0m\u001b[0mx\u001b[0m\u001b[0;34m)\u001b[0m\u001b[0;34m\u001b[0m\u001b[0;34m\u001b[0m\u001b[0m\n\u001b[0m",
            "\u001b[0;32m<ipython-input-27-ae4680b93359>\u001b[0m in \u001b[0;36mf\u001b[0;34m(x)\u001b[0m\n\u001b[1;32m      3\u001b[0m \u001b[0;32mdef\u001b[0m \u001b[0mf\u001b[0m\u001b[0;34m(\u001b[0m\u001b[0mx\u001b[0m\u001b[0;34m)\u001b[0m\u001b[0;34m:\u001b[0m\u001b[0;34m\u001b[0m\u001b[0;34m\u001b[0m\u001b[0m\n\u001b[0;32m----> 4\u001b[0;31m   \u001b[0;32mreturn\u001b[0m \u001b[0mx\u001b[0m\u001b[0;34m.\u001b[0m\u001b[0mreshape\u001b[0m\u001b[0;34m(\u001b[0m\u001b[0mjnp\u001b[0m\u001b[0;34m.\u001b[0m\u001b[0marray\u001b[0m\u001b[0;34m(\u001b[0m\u001b[0mx\u001b[0m\u001b[0;34m.\u001b[0m\u001b[0mshape\u001b[0m\u001b[0;34m)\u001b[0m\u001b[0;34m.\u001b[0m\u001b[0mprod\u001b[0m\u001b[0;34m(\u001b[0m\u001b[0;34m)\u001b[0m\u001b[0;34m)\u001b[0m\u001b[0;34m\u001b[0m\u001b[0;34m\u001b[0m\u001b[0m\n\u001b[0m\u001b[1;32m      5\u001b[0m \u001b[0;34m\u001b[0m\u001b[0m\n",
            "\u001b[0;32m/usr/local/lib/python3.7/dist-packages/jax/_src/numpy/lax_numpy.py\u001b[0m in \u001b[0;36m_reshape\u001b[0;34m(a, order, *args)\u001b[0m\n\u001b[1;32m   1324\u001b[0m \u001b[0;32mdef\u001b[0m \u001b[0m_reshape\u001b[0m\u001b[0;34m(\u001b[0m\u001b[0ma\u001b[0m\u001b[0;34m,\u001b[0m \u001b[0;34m*\u001b[0m\u001b[0margs\u001b[0m\u001b[0;34m,\u001b[0m \u001b[0morder\u001b[0m\u001b[0;34m=\u001b[0m\u001b[0;34m\"C\"\u001b[0m\u001b[0;34m)\u001b[0m\u001b[0;34m:\u001b[0m\u001b[0;34m\u001b[0m\u001b[0;34m\u001b[0m\u001b[0m\n\u001b[0;32m-> 1325\u001b[0;31m   \u001b[0mnewshape\u001b[0m \u001b[0;34m=\u001b[0m \u001b[0m_compute_newshape\u001b[0m\u001b[0;34m(\u001b[0m\u001b[0ma\u001b[0m\u001b[0;34m,\u001b[0m \u001b[0margs\u001b[0m\u001b[0;34m[\u001b[0m\u001b[0;36m0\u001b[0m\u001b[0;34m]\u001b[0m \u001b[0;32mif\u001b[0m \u001b[0mlen\u001b[0m\u001b[0;34m(\u001b[0m\u001b[0margs\u001b[0m\u001b[0;34m)\u001b[0m \u001b[0;34m==\u001b[0m \u001b[0;36m1\u001b[0m \u001b[0;32melse\u001b[0m \u001b[0margs\u001b[0m\u001b[0;34m)\u001b[0m\u001b[0;34m\u001b[0m\u001b[0;34m\u001b[0m\u001b[0m\n\u001b[0m\u001b[1;32m   1326\u001b[0m   \u001b[0;32mif\u001b[0m \u001b[0morder\u001b[0m \u001b[0;34m==\u001b[0m \u001b[0;34m\"C\"\u001b[0m\u001b[0;34m:\u001b[0m\u001b[0;34m\u001b[0m\u001b[0;34m\u001b[0m\u001b[0m\n",
            "\u001b[0;32m/usr/local/lib/python3.7/dist-packages/jax/_src/numpy/lax_numpy.py\u001b[0m in \u001b[0;36m_compute_newshape\u001b[0;34m(a, newshape)\u001b[0m\n\u001b[1;32m   1316\u001b[0m       operator.index, size, \"The error arose in jax.numpy.reshape.\")\n\u001b[0;32m-> 1317\u001b[0;31m   \u001b[0mnewshape\u001b[0m \u001b[0;34m=\u001b[0m \u001b[0;34m[\u001b[0m\u001b[0mcheck\u001b[0m\u001b[0;34m(\u001b[0m\u001b[0msize\u001b[0m\u001b[0;34m)\u001b[0m \u001b[0;32mfor\u001b[0m \u001b[0msize\u001b[0m \u001b[0;32min\u001b[0m \u001b[0mnewshape\u001b[0m\u001b[0;34m]\u001b[0m \u001b[0;32mif\u001b[0m \u001b[0miterable\u001b[0m \u001b[0;32melse\u001b[0m \u001b[0;34m[\u001b[0m\u001b[0mcheck\u001b[0m\u001b[0;34m(\u001b[0m\u001b[0mnewshape\u001b[0m\u001b[0;34m)\u001b[0m\u001b[0;34m]\u001b[0m\u001b[0;34m\u001b[0m\u001b[0;34m\u001b[0m\u001b[0m\n\u001b[0m\u001b[1;32m   1318\u001b[0m   \u001b[0;32mif\u001b[0m \u001b[0mnp\u001b[0m\u001b[0;34m.\u001b[0m\u001b[0many\u001b[0m\u001b[0;34m(\u001b[0m\u001b[0mnp\u001b[0m\u001b[0;34m.\u001b[0m\u001b[0mequal\u001b[0m\u001b[0;34m(\u001b[0m\u001b[0mnewshape\u001b[0m\u001b[0;34m,\u001b[0m \u001b[0;34m-\u001b[0m\u001b[0;36m1\u001b[0m\u001b[0;34m)\u001b[0m\u001b[0;34m)\u001b[0m\u001b[0;34m:\u001b[0m\u001b[0;34m\u001b[0m\u001b[0;34m\u001b[0m\u001b[0m\n",
            "\u001b[0;32m/usr/local/lib/python3.7/dist-packages/jax/_src/numpy/lax_numpy.py\u001b[0m in \u001b[0;36mcheck\u001b[0;34m(size)\u001b[0m\n\u001b[1;32m   1315\u001b[0m     return size if type(size) is Poly else core.concrete_or_error(\n\u001b[0;32m-> 1316\u001b[0;31m       operator.index, size, \"The error arose in jax.numpy.reshape.\")\n\u001b[0m\u001b[1;32m   1317\u001b[0m   \u001b[0mnewshape\u001b[0m \u001b[0;34m=\u001b[0m \u001b[0;34m[\u001b[0m\u001b[0mcheck\u001b[0m\u001b[0;34m(\u001b[0m\u001b[0msize\u001b[0m\u001b[0;34m)\u001b[0m \u001b[0;32mfor\u001b[0m \u001b[0msize\u001b[0m \u001b[0;32min\u001b[0m \u001b[0mnewshape\u001b[0m\u001b[0;34m]\u001b[0m \u001b[0;32mif\u001b[0m \u001b[0miterable\u001b[0m \u001b[0;32melse\u001b[0m \u001b[0;34m[\u001b[0m\u001b[0mcheck\u001b[0m\u001b[0;34m(\u001b[0m\u001b[0mnewshape\u001b[0m\u001b[0;34m)\u001b[0m\u001b[0;34m]\u001b[0m\u001b[0;34m\u001b[0m\u001b[0;34m\u001b[0m\u001b[0m\n",
            "\u001b[0;31mFilteredStackTrace\u001b[0m: jax._src.errors.ConcretizationTypeError: Abstract tracer value encountered where concrete value is expected: Traced<ShapedArray(int32[])>with<DynamicJaxprTrace(level=0/1)>\nThe error arose in jax.numpy.reshape.\nWhile tracing the function f at <ipython-input-27-ae4680b93359>:2, transformed by jit., this value became a tracer due to JAX operations on these lines:\n\n  operation c:int32[] = reduce_prod[ axes=(0,) ] b:int32[2]\n    from line <ipython-input-27-ae4680b93359>:4 (f)\n (https://jax.readthedocs.io/en/latest/errors.html#jax.errors.ConcretizationTypeError)\n\nThe stack trace above excludes JAX-internal frames.\nThe following is the original exception that occurred, unmodified.\n\n--------------------",
            "\nThe above exception was the direct cause of the following exception:\n",
            "\u001b[0;31mConcretizationTypeError\u001b[0m                   Traceback (most recent call last)",
            "\u001b[0;32m<ipython-input-27-ae4680b93359>\u001b[0m in \u001b[0;36m<module>\u001b[0;34m()\u001b[0m\n\u001b[1;32m      5\u001b[0m \u001b[0;34m\u001b[0m\u001b[0m\n\u001b[1;32m      6\u001b[0m \u001b[0mx\u001b[0m \u001b[0;34m=\u001b[0m \u001b[0mjnp\u001b[0m\u001b[0;34m.\u001b[0m\u001b[0mones\u001b[0m\u001b[0;34m(\u001b[0m\u001b[0;34m(\u001b[0m\u001b[0;36m2\u001b[0m\u001b[0;34m,\u001b[0m \u001b[0;36m3\u001b[0m\u001b[0;34m)\u001b[0m\u001b[0;34m)\u001b[0m\u001b[0;34m\u001b[0m\u001b[0;34m\u001b[0m\u001b[0m\n\u001b[0;32m----> 7\u001b[0;31m \u001b[0mf\u001b[0m\u001b[0;34m(\u001b[0m\u001b[0mx\u001b[0m\u001b[0;34m)\u001b[0m\u001b[0;34m\u001b[0m\u001b[0;34m\u001b[0m\u001b[0m\n\u001b[0m",
            "\u001b[0;32m/usr/local/lib/python3.7/dist-packages/jax/_src/traceback_util.py\u001b[0m in \u001b[0;36mreraise_with_filtered_traceback\u001b[0;34m(*args, **kwargs)\u001b[0m\n\u001b[1;32m    137\u001b[0m   \u001b[0;32mdef\u001b[0m \u001b[0mreraise_with_filtered_traceback\u001b[0m\u001b[0;34m(\u001b[0m\u001b[0;34m*\u001b[0m\u001b[0margs\u001b[0m\u001b[0;34m,\u001b[0m \u001b[0;34m**\u001b[0m\u001b[0mkwargs\u001b[0m\u001b[0;34m)\u001b[0m\u001b[0;34m:\u001b[0m\u001b[0;34m\u001b[0m\u001b[0;34m\u001b[0m\u001b[0m\n\u001b[1;32m    138\u001b[0m     \u001b[0;32mtry\u001b[0m\u001b[0;34m:\u001b[0m\u001b[0;34m\u001b[0m\u001b[0;34m\u001b[0m\u001b[0m\n\u001b[0;32m--> 139\u001b[0;31m       \u001b[0;32mreturn\u001b[0m \u001b[0mfun\u001b[0m\u001b[0;34m(\u001b[0m\u001b[0;34m*\u001b[0m\u001b[0margs\u001b[0m\u001b[0;34m,\u001b[0m \u001b[0;34m**\u001b[0m\u001b[0mkwargs\u001b[0m\u001b[0;34m)\u001b[0m\u001b[0;34m\u001b[0m\u001b[0;34m\u001b[0m\u001b[0m\n\u001b[0m\u001b[1;32m    140\u001b[0m     \u001b[0;32mexcept\u001b[0m \u001b[0mException\u001b[0m \u001b[0;32mas\u001b[0m \u001b[0me\u001b[0m\u001b[0;34m:\u001b[0m\u001b[0;34m\u001b[0m\u001b[0;34m\u001b[0m\u001b[0m\n\u001b[1;32m    141\u001b[0m       \u001b[0;32mif\u001b[0m \u001b[0;32mnot\u001b[0m \u001b[0mis_under_reraiser\u001b[0m\u001b[0;34m(\u001b[0m\u001b[0me\u001b[0m\u001b[0;34m)\u001b[0m\u001b[0;34m:\u001b[0m\u001b[0;34m\u001b[0m\u001b[0;34m\u001b[0m\u001b[0m\n",
            "\u001b[0;32m/usr/local/lib/python3.7/dist-packages/jax/api.py\u001b[0m in \u001b[0;36mcache_miss\u001b[0;34m(*args, **kwargs)\u001b[0m\n\u001b[1;32m    336\u001b[0m         \u001b[0mbackend\u001b[0m\u001b[0;34m=\u001b[0m\u001b[0mbackend\u001b[0m\u001b[0;34m,\u001b[0m\u001b[0;34m\u001b[0m\u001b[0;34m\u001b[0m\u001b[0m\n\u001b[1;32m    337\u001b[0m         \u001b[0mname\u001b[0m\u001b[0;34m=\u001b[0m\u001b[0mflat_fun\u001b[0m\u001b[0;34m.\u001b[0m\u001b[0m__name__\u001b[0m\u001b[0;34m,\u001b[0m\u001b[0;34m\u001b[0m\u001b[0;34m\u001b[0m\u001b[0m\n\u001b[0;32m--> 338\u001b[0;31m         donated_invars=donated_invars)\n\u001b[0m\u001b[1;32m    339\u001b[0m     \u001b[0mout_pytree_def\u001b[0m \u001b[0;34m=\u001b[0m \u001b[0mout_tree\u001b[0m\u001b[0;34m(\u001b[0m\u001b[0;34m)\u001b[0m\u001b[0;34m\u001b[0m\u001b[0;34m\u001b[0m\u001b[0m\n\u001b[1;32m    340\u001b[0m     \u001b[0mout\u001b[0m \u001b[0;34m=\u001b[0m \u001b[0mtree_unflatten\u001b[0m\u001b[0;34m(\u001b[0m\u001b[0mout_pytree_def\u001b[0m\u001b[0;34m,\u001b[0m \u001b[0mout_flat\u001b[0m\u001b[0;34m)\u001b[0m\u001b[0;34m\u001b[0m\u001b[0;34m\u001b[0m\u001b[0m\n",
            "\u001b[0;32m/usr/local/lib/python3.7/dist-packages/jax/core.py\u001b[0m in \u001b[0;36mbind\u001b[0;34m(self, fun, *args, **params)\u001b[0m\n\u001b[1;32m   1400\u001b[0m \u001b[0;34m\u001b[0m\u001b[0m\n\u001b[1;32m   1401\u001b[0m   \u001b[0;32mdef\u001b[0m \u001b[0mbind\u001b[0m\u001b[0;34m(\u001b[0m\u001b[0mself\u001b[0m\u001b[0;34m,\u001b[0m \u001b[0mfun\u001b[0m\u001b[0;34m,\u001b[0m \u001b[0;34m*\u001b[0m\u001b[0margs\u001b[0m\u001b[0;34m,\u001b[0m \u001b[0;34m**\u001b[0m\u001b[0mparams\u001b[0m\u001b[0;34m)\u001b[0m\u001b[0;34m:\u001b[0m\u001b[0;34m\u001b[0m\u001b[0;34m\u001b[0m\u001b[0m\n\u001b[0;32m-> 1402\u001b[0;31m     \u001b[0;32mreturn\u001b[0m \u001b[0mcall_bind\u001b[0m\u001b[0;34m(\u001b[0m\u001b[0mself\u001b[0m\u001b[0;34m,\u001b[0m \u001b[0mfun\u001b[0m\u001b[0;34m,\u001b[0m \u001b[0;34m*\u001b[0m\u001b[0margs\u001b[0m\u001b[0;34m,\u001b[0m \u001b[0;34m**\u001b[0m\u001b[0mparams\u001b[0m\u001b[0;34m)\u001b[0m\u001b[0;34m\u001b[0m\u001b[0;34m\u001b[0m\u001b[0m\n\u001b[0m\u001b[1;32m   1403\u001b[0m \u001b[0;34m\u001b[0m\u001b[0m\n\u001b[1;32m   1404\u001b[0m   \u001b[0;32mdef\u001b[0m \u001b[0mprocess\u001b[0m\u001b[0;34m(\u001b[0m\u001b[0mself\u001b[0m\u001b[0;34m,\u001b[0m \u001b[0mtrace\u001b[0m\u001b[0;34m,\u001b[0m \u001b[0mfun\u001b[0m\u001b[0;34m,\u001b[0m \u001b[0mtracers\u001b[0m\u001b[0;34m,\u001b[0m \u001b[0mparams\u001b[0m\u001b[0;34m)\u001b[0m\u001b[0;34m:\u001b[0m\u001b[0;34m\u001b[0m\u001b[0;34m\u001b[0m\u001b[0m\n",
            "\u001b[0;32m/usr/local/lib/python3.7/dist-packages/jax/core.py\u001b[0m in \u001b[0;36mcall_bind\u001b[0;34m(primitive, fun, *args, **params)\u001b[0m\n\u001b[1;32m   1391\u001b[0m   \u001b[0mtracers\u001b[0m \u001b[0;34m=\u001b[0m \u001b[0mmap\u001b[0m\u001b[0;34m(\u001b[0m\u001b[0mtop_trace\u001b[0m\u001b[0;34m.\u001b[0m\u001b[0mfull_raise\u001b[0m\u001b[0;34m,\u001b[0m \u001b[0margs\u001b[0m\u001b[0;34m)\u001b[0m\u001b[0;34m\u001b[0m\u001b[0;34m\u001b[0m\u001b[0m\n\u001b[1;32m   1392\u001b[0m   \u001b[0;32mwith\u001b[0m \u001b[0mmaybe_new_sublevel\u001b[0m\u001b[0;34m(\u001b[0m\u001b[0mtop_trace\u001b[0m\u001b[0;34m)\u001b[0m\u001b[0;34m:\u001b[0m\u001b[0;34m\u001b[0m\u001b[0;34m\u001b[0m\u001b[0m\n\u001b[0;32m-> 1393\u001b[0;31m     \u001b[0mouts\u001b[0m \u001b[0;34m=\u001b[0m \u001b[0mprimitive\u001b[0m\u001b[0;34m.\u001b[0m\u001b[0mprocess\u001b[0m\u001b[0;34m(\u001b[0m\u001b[0mtop_trace\u001b[0m\u001b[0;34m,\u001b[0m \u001b[0mfun\u001b[0m\u001b[0;34m,\u001b[0m \u001b[0mtracers\u001b[0m\u001b[0;34m,\u001b[0m \u001b[0mparams\u001b[0m\u001b[0;34m)\u001b[0m\u001b[0;34m\u001b[0m\u001b[0;34m\u001b[0m\u001b[0m\n\u001b[0m\u001b[1;32m   1394\u001b[0m   \u001b[0;32mreturn\u001b[0m \u001b[0mmap\u001b[0m\u001b[0;34m(\u001b[0m\u001b[0mfull_lower\u001b[0m\u001b[0;34m,\u001b[0m \u001b[0mapply_todos\u001b[0m\u001b[0;34m(\u001b[0m\u001b[0menv_trace_todo\u001b[0m\u001b[0;34m(\u001b[0m\u001b[0;34m)\u001b[0m\u001b[0;34m,\u001b[0m \u001b[0mouts\u001b[0m\u001b[0;34m)\u001b[0m\u001b[0;34m)\u001b[0m\u001b[0;34m\u001b[0m\u001b[0;34m\u001b[0m\u001b[0m\n\u001b[1;32m   1395\u001b[0m \u001b[0;34m\u001b[0m\u001b[0m\n",
            "\u001b[0;32m/usr/local/lib/python3.7/dist-packages/jax/core.py\u001b[0m in \u001b[0;36mprocess\u001b[0;34m(self, trace, fun, tracers, params)\u001b[0m\n\u001b[1;32m   1403\u001b[0m \u001b[0;34m\u001b[0m\u001b[0m\n\u001b[1;32m   1404\u001b[0m   \u001b[0;32mdef\u001b[0m \u001b[0mprocess\u001b[0m\u001b[0;34m(\u001b[0m\u001b[0mself\u001b[0m\u001b[0;34m,\u001b[0m \u001b[0mtrace\u001b[0m\u001b[0;34m,\u001b[0m \u001b[0mfun\u001b[0m\u001b[0;34m,\u001b[0m \u001b[0mtracers\u001b[0m\u001b[0;34m,\u001b[0m \u001b[0mparams\u001b[0m\u001b[0;34m)\u001b[0m\u001b[0;34m:\u001b[0m\u001b[0;34m\u001b[0m\u001b[0;34m\u001b[0m\u001b[0m\n\u001b[0;32m-> 1405\u001b[0;31m     \u001b[0;32mreturn\u001b[0m \u001b[0mtrace\u001b[0m\u001b[0;34m.\u001b[0m\u001b[0mprocess_call\u001b[0m\u001b[0;34m(\u001b[0m\u001b[0mself\u001b[0m\u001b[0;34m,\u001b[0m \u001b[0mfun\u001b[0m\u001b[0;34m,\u001b[0m \u001b[0mtracers\u001b[0m\u001b[0;34m,\u001b[0m \u001b[0mparams\u001b[0m\u001b[0;34m)\u001b[0m\u001b[0;34m\u001b[0m\u001b[0;34m\u001b[0m\u001b[0m\n\u001b[0m\u001b[1;32m   1406\u001b[0m \u001b[0;34m\u001b[0m\u001b[0m\n\u001b[1;32m   1407\u001b[0m   \u001b[0;32mdef\u001b[0m \u001b[0mpost_process\u001b[0m\u001b[0;34m(\u001b[0m\u001b[0mself\u001b[0m\u001b[0;34m,\u001b[0m \u001b[0mtrace\u001b[0m\u001b[0;34m,\u001b[0m \u001b[0mout_tracers\u001b[0m\u001b[0;34m,\u001b[0m \u001b[0mparams\u001b[0m\u001b[0;34m)\u001b[0m\u001b[0;34m:\u001b[0m\u001b[0;34m\u001b[0m\u001b[0;34m\u001b[0m\u001b[0m\n",
            "\u001b[0;32m/usr/local/lib/python3.7/dist-packages/jax/core.py\u001b[0m in \u001b[0;36mprocess_call\u001b[0;34m(self, primitive, f, tracers, params)\u001b[0m\n\u001b[1;32m    598\u001b[0m \u001b[0;34m\u001b[0m\u001b[0m\n\u001b[1;32m    599\u001b[0m   \u001b[0;32mdef\u001b[0m \u001b[0mprocess_call\u001b[0m\u001b[0;34m(\u001b[0m\u001b[0mself\u001b[0m\u001b[0;34m,\u001b[0m \u001b[0mprimitive\u001b[0m\u001b[0;34m,\u001b[0m \u001b[0mf\u001b[0m\u001b[0;34m,\u001b[0m \u001b[0mtracers\u001b[0m\u001b[0;34m,\u001b[0m \u001b[0mparams\u001b[0m\u001b[0;34m)\u001b[0m\u001b[0;34m:\u001b[0m\u001b[0;34m\u001b[0m\u001b[0;34m\u001b[0m\u001b[0m\n\u001b[0;32m--> 600\u001b[0;31m     \u001b[0;32mreturn\u001b[0m \u001b[0mprimitive\u001b[0m\u001b[0;34m.\u001b[0m\u001b[0mimpl\u001b[0m\u001b[0;34m(\u001b[0m\u001b[0mf\u001b[0m\u001b[0;34m,\u001b[0m \u001b[0;34m*\u001b[0m\u001b[0mtracers\u001b[0m\u001b[0;34m,\u001b[0m \u001b[0;34m**\u001b[0m\u001b[0mparams\u001b[0m\u001b[0;34m)\u001b[0m\u001b[0;34m\u001b[0m\u001b[0;34m\u001b[0m\u001b[0m\n\u001b[0m\u001b[1;32m    601\u001b[0m   \u001b[0mprocess_map\u001b[0m \u001b[0;34m=\u001b[0m \u001b[0mprocess_call\u001b[0m\u001b[0;34m\u001b[0m\u001b[0;34m\u001b[0m\u001b[0m\n\u001b[1;32m    602\u001b[0m \u001b[0;34m\u001b[0m\u001b[0m\n",
            "\u001b[0;32m/usr/local/lib/python3.7/dist-packages/jax/interpreters/xla.py\u001b[0m in \u001b[0;36m_xla_call_impl\u001b[0;34m(fun, device, backend, name, donated_invars, *args)\u001b[0m\n\u001b[1;32m    575\u001b[0m \u001b[0;32mdef\u001b[0m \u001b[0m_xla_call_impl\u001b[0m\u001b[0;34m(\u001b[0m\u001b[0mfun\u001b[0m\u001b[0;34m:\u001b[0m \u001b[0mlu\u001b[0m\u001b[0;34m.\u001b[0m\u001b[0mWrappedFun\u001b[0m\u001b[0;34m,\u001b[0m \u001b[0;34m*\u001b[0m\u001b[0margs\u001b[0m\u001b[0;34m,\u001b[0m \u001b[0mdevice\u001b[0m\u001b[0;34m,\u001b[0m \u001b[0mbackend\u001b[0m\u001b[0;34m,\u001b[0m \u001b[0mname\u001b[0m\u001b[0;34m,\u001b[0m \u001b[0mdonated_invars\u001b[0m\u001b[0;34m)\u001b[0m\u001b[0;34m:\u001b[0m\u001b[0;34m\u001b[0m\u001b[0;34m\u001b[0m\u001b[0m\n\u001b[1;32m    576\u001b[0m   compiled_fun = _xla_callable(fun, device, backend, name, donated_invars,\n\u001b[0;32m--> 577\u001b[0;31m                                *unsafe_map(arg_spec, args))\n\u001b[0m\u001b[1;32m    578\u001b[0m   \u001b[0;32mtry\u001b[0m\u001b[0;34m:\u001b[0m\u001b[0;34m\u001b[0m\u001b[0;34m\u001b[0m\u001b[0m\n\u001b[1;32m    579\u001b[0m     \u001b[0;32mreturn\u001b[0m \u001b[0mcompiled_fun\u001b[0m\u001b[0;34m(\u001b[0m\u001b[0;34m*\u001b[0m\u001b[0margs\u001b[0m\u001b[0;34m)\u001b[0m\u001b[0;34m\u001b[0m\u001b[0;34m\u001b[0m\u001b[0m\n",
            "\u001b[0;32m/usr/local/lib/python3.7/dist-packages/jax/linear_util.py\u001b[0m in \u001b[0;36mmemoized_fun\u001b[0;34m(fun, *args)\u001b[0m\n\u001b[1;32m    258\u001b[0m       \u001b[0mfun\u001b[0m\u001b[0;34m.\u001b[0m\u001b[0mpopulate_stores\u001b[0m\u001b[0;34m(\u001b[0m\u001b[0mstores\u001b[0m\u001b[0;34m)\u001b[0m\u001b[0;34m\u001b[0m\u001b[0;34m\u001b[0m\u001b[0m\n\u001b[1;32m    259\u001b[0m     \u001b[0;32melse\u001b[0m\u001b[0;34m:\u001b[0m\u001b[0;34m\u001b[0m\u001b[0;34m\u001b[0m\u001b[0m\n\u001b[0;32m--> 260\u001b[0;31m       \u001b[0mans\u001b[0m \u001b[0;34m=\u001b[0m \u001b[0mcall\u001b[0m\u001b[0;34m(\u001b[0m\u001b[0mfun\u001b[0m\u001b[0;34m,\u001b[0m \u001b[0;34m*\u001b[0m\u001b[0margs\u001b[0m\u001b[0;34m)\u001b[0m\u001b[0;34m\u001b[0m\u001b[0;34m\u001b[0m\u001b[0m\n\u001b[0m\u001b[1;32m    261\u001b[0m       \u001b[0mcache\u001b[0m\u001b[0;34m[\u001b[0m\u001b[0mkey\u001b[0m\u001b[0;34m]\u001b[0m \u001b[0;34m=\u001b[0m \u001b[0;34m(\u001b[0m\u001b[0mans\u001b[0m\u001b[0;34m,\u001b[0m \u001b[0mfun\u001b[0m\u001b[0;34m.\u001b[0m\u001b[0mstores\u001b[0m\u001b[0;34m)\u001b[0m\u001b[0;34m\u001b[0m\u001b[0;34m\u001b[0m\u001b[0m\n\u001b[1;32m    262\u001b[0m \u001b[0;34m\u001b[0m\u001b[0m\n",
            "\u001b[0;32m/usr/local/lib/python3.7/dist-packages/jax/interpreters/xla.py\u001b[0m in \u001b[0;36m_xla_callable\u001b[0;34m(fun, device, backend, name, donated_invars, *arg_specs)\u001b[0m\n\u001b[1;32m    650\u001b[0m \u001b[0;34m\u001b[0m\u001b[0m\n\u001b[1;32m    651\u001b[0m   \u001b[0mabstract_args\u001b[0m\u001b[0;34m,\u001b[0m \u001b[0marg_devices\u001b[0m \u001b[0;34m=\u001b[0m \u001b[0munzip2\u001b[0m\u001b[0;34m(\u001b[0m\u001b[0marg_specs\u001b[0m\u001b[0;34m)\u001b[0m\u001b[0;34m\u001b[0m\u001b[0;34m\u001b[0m\u001b[0m\n\u001b[0;32m--> 652\u001b[0;31m   \u001b[0mjaxpr\u001b[0m\u001b[0;34m,\u001b[0m \u001b[0mout_avals\u001b[0m\u001b[0;34m,\u001b[0m \u001b[0mconsts\u001b[0m \u001b[0;34m=\u001b[0m \u001b[0mpe\u001b[0m\u001b[0;34m.\u001b[0m\u001b[0mtrace_to_jaxpr_final\u001b[0m\u001b[0;34m(\u001b[0m\u001b[0mfun\u001b[0m\u001b[0;34m,\u001b[0m \u001b[0mabstract_args\u001b[0m\u001b[0;34m,\u001b[0m \u001b[0mtransform_name\u001b[0m\u001b[0;34m=\u001b[0m\u001b[0;34m\"jit\"\u001b[0m\u001b[0;34m)\u001b[0m\u001b[0;34m\u001b[0m\u001b[0;34m\u001b[0m\u001b[0m\n\u001b[0m\u001b[1;32m    653\u001b[0m   \u001b[0;32mif\u001b[0m \u001b[0many\u001b[0m\u001b[0;34m(\u001b[0m\u001b[0misinstance\u001b[0m\u001b[0;34m(\u001b[0m\u001b[0mc\u001b[0m\u001b[0;34m,\u001b[0m \u001b[0mcore\u001b[0m\u001b[0;34m.\u001b[0m\u001b[0mTracer\u001b[0m\u001b[0;34m)\u001b[0m \u001b[0;32mfor\u001b[0m \u001b[0mc\u001b[0m \u001b[0;32min\u001b[0m \u001b[0mconsts\u001b[0m\u001b[0;34m)\u001b[0m\u001b[0;34m:\u001b[0m\u001b[0;34m\u001b[0m\u001b[0;34m\u001b[0m\u001b[0m\n\u001b[1;32m    654\u001b[0m     \u001b[0;32mraise\u001b[0m \u001b[0mcore\u001b[0m\u001b[0;34m.\u001b[0m\u001b[0mUnexpectedTracerError\u001b[0m\u001b[0;34m(\u001b[0m\u001b[0;34m\"Encountered an unexpected tracer.\"\u001b[0m\u001b[0;34m)\u001b[0m\u001b[0;34m\u001b[0m\u001b[0;34m\u001b[0m\u001b[0m\n",
            "\u001b[0;32m/usr/local/lib/python3.7/dist-packages/jax/interpreters/partial_eval.py\u001b[0m in \u001b[0;36mtrace_to_jaxpr_final\u001b[0;34m(fun, in_avals, transform_name)\u001b[0m\n\u001b[1;32m   1207\u001b[0m     \u001b[0mmain\u001b[0m\u001b[0;34m.\u001b[0m\u001b[0msource_info\u001b[0m \u001b[0;34m=\u001b[0m \u001b[0mfun_sourceinfo\u001b[0m\u001b[0;34m(\u001b[0m\u001b[0mfun\u001b[0m\u001b[0;34m.\u001b[0m\u001b[0mf\u001b[0m\u001b[0;34m,\u001b[0m \u001b[0mtransform_name\u001b[0m\u001b[0;34m)\u001b[0m  \u001b[0;31m# type: ignore\u001b[0m\u001b[0;34m\u001b[0m\u001b[0;34m\u001b[0m\u001b[0m\n\u001b[1;32m   1208\u001b[0m     \u001b[0mmain\u001b[0m\u001b[0;34m.\u001b[0m\u001b[0mjaxpr_stack\u001b[0m \u001b[0;34m=\u001b[0m \u001b[0;34m(\u001b[0m\u001b[0;34m)\u001b[0m  \u001b[0;31m# type: ignore\u001b[0m\u001b[0;34m\u001b[0m\u001b[0;34m\u001b[0m\u001b[0m\n\u001b[0;32m-> 1209\u001b[0;31m     \u001b[0mjaxpr\u001b[0m\u001b[0;34m,\u001b[0m \u001b[0mout_avals\u001b[0m\u001b[0;34m,\u001b[0m \u001b[0mconsts\u001b[0m \u001b[0;34m=\u001b[0m \u001b[0mtrace_to_subjaxpr_dynamic\u001b[0m\u001b[0;34m(\u001b[0m\u001b[0mfun\u001b[0m\u001b[0;34m,\u001b[0m \u001b[0mmain\u001b[0m\u001b[0;34m,\u001b[0m \u001b[0min_avals\u001b[0m\u001b[0;34m)\u001b[0m\u001b[0;34m\u001b[0m\u001b[0;34m\u001b[0m\u001b[0m\n\u001b[0m\u001b[1;32m   1210\u001b[0m     \u001b[0;32mdel\u001b[0m \u001b[0mfun\u001b[0m\u001b[0;34m,\u001b[0m \u001b[0mmain\u001b[0m\u001b[0;34m\u001b[0m\u001b[0;34m\u001b[0m\u001b[0m\n\u001b[1;32m   1211\u001b[0m   \u001b[0;32mreturn\u001b[0m \u001b[0mjaxpr\u001b[0m\u001b[0;34m,\u001b[0m \u001b[0mout_avals\u001b[0m\u001b[0;34m,\u001b[0m \u001b[0mconsts\u001b[0m\u001b[0;34m\u001b[0m\u001b[0;34m\u001b[0m\u001b[0m\n",
            "\u001b[0;32m/usr/local/lib/python3.7/dist-packages/jax/interpreters/partial_eval.py\u001b[0m in \u001b[0;36mtrace_to_subjaxpr_dynamic\u001b[0;34m(fun, main, in_avals)\u001b[0m\n\u001b[1;32m   1186\u001b[0m     \u001b[0mtrace\u001b[0m \u001b[0;34m=\u001b[0m \u001b[0mDynamicJaxprTrace\u001b[0m\u001b[0;34m(\u001b[0m\u001b[0mmain\u001b[0m\u001b[0;34m,\u001b[0m \u001b[0mcore\u001b[0m\u001b[0;34m.\u001b[0m\u001b[0mcur_sublevel\u001b[0m\u001b[0;34m(\u001b[0m\u001b[0;34m)\u001b[0m\u001b[0;34m)\u001b[0m\u001b[0;34m\u001b[0m\u001b[0;34m\u001b[0m\u001b[0m\n\u001b[1;32m   1187\u001b[0m     \u001b[0min_tracers\u001b[0m \u001b[0;34m=\u001b[0m \u001b[0mmap\u001b[0m\u001b[0;34m(\u001b[0m\u001b[0mtrace\u001b[0m\u001b[0;34m.\u001b[0m\u001b[0mnew_arg\u001b[0m\u001b[0;34m,\u001b[0m \u001b[0min_avals\u001b[0m\u001b[0;34m)\u001b[0m\u001b[0;34m\u001b[0m\u001b[0;34m\u001b[0m\u001b[0m\n\u001b[0;32m-> 1188\u001b[0;31m     \u001b[0mans\u001b[0m \u001b[0;34m=\u001b[0m \u001b[0mfun\u001b[0m\u001b[0;34m.\u001b[0m\u001b[0mcall_wrapped\u001b[0m\u001b[0;34m(\u001b[0m\u001b[0;34m*\u001b[0m\u001b[0min_tracers\u001b[0m\u001b[0;34m)\u001b[0m\u001b[0;34m\u001b[0m\u001b[0;34m\u001b[0m\u001b[0m\n\u001b[0m\u001b[1;32m   1189\u001b[0m     \u001b[0mout_tracers\u001b[0m \u001b[0;34m=\u001b[0m \u001b[0mmap\u001b[0m\u001b[0;34m(\u001b[0m\u001b[0mtrace\u001b[0m\u001b[0;34m.\u001b[0m\u001b[0mfull_raise\u001b[0m\u001b[0;34m,\u001b[0m \u001b[0mans\u001b[0m\u001b[0;34m)\u001b[0m\u001b[0;34m\u001b[0m\u001b[0;34m\u001b[0m\u001b[0m\n\u001b[1;32m   1190\u001b[0m     \u001b[0mjaxpr\u001b[0m\u001b[0;34m,\u001b[0m \u001b[0mout_avals\u001b[0m\u001b[0;34m,\u001b[0m \u001b[0mconsts\u001b[0m \u001b[0;34m=\u001b[0m \u001b[0mframe\u001b[0m\u001b[0;34m.\u001b[0m\u001b[0mto_jaxpr\u001b[0m\u001b[0;34m(\u001b[0m\u001b[0min_tracers\u001b[0m\u001b[0;34m,\u001b[0m \u001b[0mout_tracers\u001b[0m\u001b[0;34m)\u001b[0m\u001b[0;34m\u001b[0m\u001b[0;34m\u001b[0m\u001b[0m\n",
            "\u001b[0;32m/usr/local/lib/python3.7/dist-packages/jax/linear_util.py\u001b[0m in \u001b[0;36mcall_wrapped\u001b[0;34m(self, *args, **kwargs)\u001b[0m\n\u001b[1;32m    164\u001b[0m \u001b[0;34m\u001b[0m\u001b[0m\n\u001b[1;32m    165\u001b[0m     \u001b[0;32mtry\u001b[0m\u001b[0;34m:\u001b[0m\u001b[0;34m\u001b[0m\u001b[0;34m\u001b[0m\u001b[0m\n\u001b[0;32m--> 166\u001b[0;31m       \u001b[0mans\u001b[0m \u001b[0;34m=\u001b[0m \u001b[0mself\u001b[0m\u001b[0;34m.\u001b[0m\u001b[0mf\u001b[0m\u001b[0;34m(\u001b[0m\u001b[0;34m*\u001b[0m\u001b[0margs\u001b[0m\u001b[0;34m,\u001b[0m \u001b[0;34m**\u001b[0m\u001b[0mdict\u001b[0m\u001b[0;34m(\u001b[0m\u001b[0mself\u001b[0m\u001b[0;34m.\u001b[0m\u001b[0mparams\u001b[0m\u001b[0;34m,\u001b[0m \u001b[0;34m**\u001b[0m\u001b[0mkwargs\u001b[0m\u001b[0;34m)\u001b[0m\u001b[0;34m)\u001b[0m\u001b[0;34m\u001b[0m\u001b[0;34m\u001b[0m\u001b[0m\n\u001b[0m\u001b[1;32m    167\u001b[0m     \u001b[0;32mexcept\u001b[0m\u001b[0;34m:\u001b[0m\u001b[0;34m\u001b[0m\u001b[0;34m\u001b[0m\u001b[0m\n\u001b[1;32m    168\u001b[0m       \u001b[0;31m# Some transformations yield from inside context managers, so we have to\u001b[0m\u001b[0;34m\u001b[0m\u001b[0;34m\u001b[0m\u001b[0;34m\u001b[0m\u001b[0m\n",
            "\u001b[0;32m<ipython-input-27-ae4680b93359>\u001b[0m in \u001b[0;36mf\u001b[0;34m(x)\u001b[0m\n\u001b[1;32m      2\u001b[0m \u001b[0;34m@\u001b[0m\u001b[0mjit\u001b[0m\u001b[0;34m\u001b[0m\u001b[0;34m\u001b[0m\u001b[0m\n\u001b[1;32m      3\u001b[0m \u001b[0;32mdef\u001b[0m \u001b[0mf\u001b[0m\u001b[0;34m(\u001b[0m\u001b[0mx\u001b[0m\u001b[0;34m)\u001b[0m\u001b[0;34m:\u001b[0m\u001b[0;34m\u001b[0m\u001b[0;34m\u001b[0m\u001b[0m\n\u001b[0;32m----> 4\u001b[0;31m   \u001b[0;32mreturn\u001b[0m \u001b[0mx\u001b[0m\u001b[0;34m.\u001b[0m\u001b[0mreshape\u001b[0m\u001b[0;34m(\u001b[0m\u001b[0mjnp\u001b[0m\u001b[0;34m.\u001b[0m\u001b[0marray\u001b[0m\u001b[0;34m(\u001b[0m\u001b[0mx\u001b[0m\u001b[0;34m.\u001b[0m\u001b[0mshape\u001b[0m\u001b[0;34m)\u001b[0m\u001b[0;34m.\u001b[0m\u001b[0mprod\u001b[0m\u001b[0;34m(\u001b[0m\u001b[0;34m)\u001b[0m\u001b[0;34m)\u001b[0m\u001b[0;34m\u001b[0m\u001b[0;34m\u001b[0m\u001b[0m\n\u001b[0m\u001b[1;32m      5\u001b[0m \u001b[0;34m\u001b[0m\u001b[0m\n\u001b[1;32m      6\u001b[0m \u001b[0mx\u001b[0m \u001b[0;34m=\u001b[0m \u001b[0mjnp\u001b[0m\u001b[0;34m.\u001b[0m\u001b[0mones\u001b[0m\u001b[0;34m(\u001b[0m\u001b[0;34m(\u001b[0m\u001b[0;36m2\u001b[0m\u001b[0;34m,\u001b[0m \u001b[0;36m3\u001b[0m\u001b[0;34m)\u001b[0m\u001b[0;34m)\u001b[0m\u001b[0;34m\u001b[0m\u001b[0;34m\u001b[0m\u001b[0m\n",
            "\u001b[0;32m/usr/local/lib/python3.7/dist-packages/jax/_src/numpy/lax_numpy.py\u001b[0m in \u001b[0;36m_reshape\u001b[0;34m(a, order, *args)\u001b[0m\n\u001b[1;32m   1323\u001b[0m \u001b[0;34m\u001b[0m\u001b[0m\n\u001b[1;32m   1324\u001b[0m \u001b[0;32mdef\u001b[0m \u001b[0m_reshape\u001b[0m\u001b[0;34m(\u001b[0m\u001b[0ma\u001b[0m\u001b[0;34m,\u001b[0m \u001b[0;34m*\u001b[0m\u001b[0margs\u001b[0m\u001b[0;34m,\u001b[0m \u001b[0morder\u001b[0m\u001b[0;34m=\u001b[0m\u001b[0;34m\"C\"\u001b[0m\u001b[0;34m)\u001b[0m\u001b[0;34m:\u001b[0m\u001b[0;34m\u001b[0m\u001b[0;34m\u001b[0m\u001b[0m\n\u001b[0;32m-> 1325\u001b[0;31m   \u001b[0mnewshape\u001b[0m \u001b[0;34m=\u001b[0m \u001b[0m_compute_newshape\u001b[0m\u001b[0;34m(\u001b[0m\u001b[0ma\u001b[0m\u001b[0;34m,\u001b[0m \u001b[0margs\u001b[0m\u001b[0;34m[\u001b[0m\u001b[0;36m0\u001b[0m\u001b[0;34m]\u001b[0m \u001b[0;32mif\u001b[0m \u001b[0mlen\u001b[0m\u001b[0;34m(\u001b[0m\u001b[0margs\u001b[0m\u001b[0;34m)\u001b[0m \u001b[0;34m==\u001b[0m \u001b[0;36m1\u001b[0m \u001b[0;32melse\u001b[0m \u001b[0margs\u001b[0m\u001b[0;34m)\u001b[0m\u001b[0;34m\u001b[0m\u001b[0;34m\u001b[0m\u001b[0m\n\u001b[0m\u001b[1;32m   1326\u001b[0m   \u001b[0;32mif\u001b[0m \u001b[0morder\u001b[0m \u001b[0;34m==\u001b[0m \u001b[0;34m\"C\"\u001b[0m\u001b[0;34m:\u001b[0m\u001b[0;34m\u001b[0m\u001b[0;34m\u001b[0m\u001b[0m\n\u001b[1;32m   1327\u001b[0m     \u001b[0;32mreturn\u001b[0m \u001b[0mlax\u001b[0m\u001b[0;34m.\u001b[0m\u001b[0mreshape\u001b[0m\u001b[0;34m(\u001b[0m\u001b[0ma\u001b[0m\u001b[0;34m,\u001b[0m \u001b[0mnewshape\u001b[0m\u001b[0;34m,\u001b[0m \u001b[0;32mNone\u001b[0m\u001b[0;34m)\u001b[0m\u001b[0;34m\u001b[0m\u001b[0;34m\u001b[0m\u001b[0m\n",
            "\u001b[0;32m/usr/local/lib/python3.7/dist-packages/jax/_src/numpy/lax_numpy.py\u001b[0m in \u001b[0;36m_compute_newshape\u001b[0;34m(a, newshape)\u001b[0m\n\u001b[1;32m   1315\u001b[0m     return size if type(size) is Poly else core.concrete_or_error(\n\u001b[1;32m   1316\u001b[0m       operator.index, size, \"The error arose in jax.numpy.reshape.\")\n\u001b[0;32m-> 1317\u001b[0;31m   \u001b[0mnewshape\u001b[0m \u001b[0;34m=\u001b[0m \u001b[0;34m[\u001b[0m\u001b[0mcheck\u001b[0m\u001b[0;34m(\u001b[0m\u001b[0msize\u001b[0m\u001b[0;34m)\u001b[0m \u001b[0;32mfor\u001b[0m \u001b[0msize\u001b[0m \u001b[0;32min\u001b[0m \u001b[0mnewshape\u001b[0m\u001b[0;34m]\u001b[0m \u001b[0;32mif\u001b[0m \u001b[0miterable\u001b[0m \u001b[0;32melse\u001b[0m \u001b[0;34m[\u001b[0m\u001b[0mcheck\u001b[0m\u001b[0;34m(\u001b[0m\u001b[0mnewshape\u001b[0m\u001b[0;34m)\u001b[0m\u001b[0;34m]\u001b[0m\u001b[0;34m\u001b[0m\u001b[0;34m\u001b[0m\u001b[0m\n\u001b[0m\u001b[1;32m   1318\u001b[0m   \u001b[0;32mif\u001b[0m \u001b[0mnp\u001b[0m\u001b[0;34m.\u001b[0m\u001b[0many\u001b[0m\u001b[0;34m(\u001b[0m\u001b[0mnp\u001b[0m\u001b[0;34m.\u001b[0m\u001b[0mequal\u001b[0m\u001b[0;34m(\u001b[0m\u001b[0mnewshape\u001b[0m\u001b[0;34m,\u001b[0m \u001b[0;34m-\u001b[0m\u001b[0;36m1\u001b[0m\u001b[0;34m)\u001b[0m\u001b[0;34m)\u001b[0m\u001b[0;34m:\u001b[0m\u001b[0;34m\u001b[0m\u001b[0;34m\u001b[0m\u001b[0m\n\u001b[1;32m   1319\u001b[0m     \u001b[0mfix\u001b[0m \u001b[0;34m=\u001b[0m \u001b[0;34m-\u001b[0m\u001b[0ma\u001b[0m\u001b[0;34m.\u001b[0m\u001b[0msize\u001b[0m \u001b[0;34m//\u001b[0m \u001b[0;34m(\u001b[0m\u001b[0mnewshape\u001b[0m \u001b[0;32mif\u001b[0m \u001b[0mtype\u001b[0m\u001b[0;34m(\u001b[0m\u001b[0mnewshape\u001b[0m\u001b[0;34m)\u001b[0m \u001b[0;32mis\u001b[0m \u001b[0mPoly\u001b[0m \u001b[0;32melse\u001b[0m \u001b[0m_prod\u001b[0m\u001b[0;34m(\u001b[0m\u001b[0mnewshape\u001b[0m\u001b[0;34m)\u001b[0m\u001b[0;34m)\u001b[0m\u001b[0;34m\u001b[0m\u001b[0;34m\u001b[0m\u001b[0m\n",
            "\u001b[0;32m/usr/local/lib/python3.7/dist-packages/jax/_src/numpy/lax_numpy.py\u001b[0m in \u001b[0;36mcheck\u001b[0;34m(size)\u001b[0m\n\u001b[1;32m   1314\u001b[0m   \u001b[0;32mdef\u001b[0m \u001b[0mcheck\u001b[0m\u001b[0;34m(\u001b[0m\u001b[0msize\u001b[0m\u001b[0;34m)\u001b[0m\u001b[0;34m:\u001b[0m\u001b[0;34m\u001b[0m\u001b[0;34m\u001b[0m\u001b[0m\n\u001b[1;32m   1315\u001b[0m     return size if type(size) is Poly else core.concrete_or_error(\n\u001b[0;32m-> 1316\u001b[0;31m       operator.index, size, \"The error arose in jax.numpy.reshape.\")\n\u001b[0m\u001b[1;32m   1317\u001b[0m   \u001b[0mnewshape\u001b[0m \u001b[0;34m=\u001b[0m \u001b[0;34m[\u001b[0m\u001b[0mcheck\u001b[0m\u001b[0;34m(\u001b[0m\u001b[0msize\u001b[0m\u001b[0;34m)\u001b[0m \u001b[0;32mfor\u001b[0m \u001b[0msize\u001b[0m \u001b[0;32min\u001b[0m \u001b[0mnewshape\u001b[0m\u001b[0;34m]\u001b[0m \u001b[0;32mif\u001b[0m \u001b[0miterable\u001b[0m \u001b[0;32melse\u001b[0m \u001b[0;34m[\u001b[0m\u001b[0mcheck\u001b[0m\u001b[0;34m(\u001b[0m\u001b[0mnewshape\u001b[0m\u001b[0;34m)\u001b[0m\u001b[0;34m]\u001b[0m\u001b[0;34m\u001b[0m\u001b[0;34m\u001b[0m\u001b[0m\n\u001b[1;32m   1318\u001b[0m   \u001b[0;32mif\u001b[0m \u001b[0mnp\u001b[0m\u001b[0;34m.\u001b[0m\u001b[0many\u001b[0m\u001b[0;34m(\u001b[0m\u001b[0mnp\u001b[0m\u001b[0;34m.\u001b[0m\u001b[0mequal\u001b[0m\u001b[0;34m(\u001b[0m\u001b[0mnewshape\u001b[0m\u001b[0;34m,\u001b[0m \u001b[0;34m-\u001b[0m\u001b[0;36m1\u001b[0m\u001b[0;34m)\u001b[0m\u001b[0;34m)\u001b[0m\u001b[0;34m:\u001b[0m\u001b[0;34m\u001b[0m\u001b[0;34m\u001b[0m\u001b[0m\n",
            "\u001b[0;32m/usr/local/lib/python3.7/dist-packages/jax/core.py\u001b[0m in \u001b[0;36mconcrete_or_error\u001b[0;34m(force, val, context)\u001b[0m\n\u001b[1;32m    966\u001b[0m       \u001b[0;32mreturn\u001b[0m \u001b[0mforce\u001b[0m\u001b[0;34m(\u001b[0m\u001b[0mval\u001b[0m\u001b[0;34m.\u001b[0m\u001b[0maval\u001b[0m\u001b[0;34m.\u001b[0m\u001b[0mval\u001b[0m\u001b[0;34m)\u001b[0m\u001b[0;34m\u001b[0m\u001b[0;34m\u001b[0m\u001b[0m\n\u001b[1;32m    967\u001b[0m     \u001b[0;32melse\u001b[0m\u001b[0;34m:\u001b[0m\u001b[0;34m\u001b[0m\u001b[0;34m\u001b[0m\u001b[0m\n\u001b[0;32m--> 968\u001b[0;31m       \u001b[0;32mraise\u001b[0m \u001b[0mConcretizationTypeError\u001b[0m\u001b[0;34m(\u001b[0m\u001b[0mval\u001b[0m\u001b[0;34m,\u001b[0m \u001b[0mcontext\u001b[0m\u001b[0;34m)\u001b[0m\u001b[0;34m\u001b[0m\u001b[0;34m\u001b[0m\u001b[0m\n\u001b[0m\u001b[1;32m    969\u001b[0m   \u001b[0;32melse\u001b[0m\u001b[0;34m:\u001b[0m\u001b[0;34m\u001b[0m\u001b[0;34m\u001b[0m\u001b[0m\n\u001b[1;32m    970\u001b[0m     \u001b[0;32mreturn\u001b[0m \u001b[0mforce\u001b[0m\u001b[0;34m(\u001b[0m\u001b[0mval\u001b[0m\u001b[0;34m)\u001b[0m\u001b[0;34m\u001b[0m\u001b[0;34m\u001b[0m\u001b[0m\n",
            "\u001b[0;31mConcretizationTypeError\u001b[0m: Abstract tracer value encountered where concrete value is expected: Traced<ShapedArray(int32[])>with<DynamicJaxprTrace(level=0/1)>\nThe error arose in jax.numpy.reshape.\nWhile tracing the function f at <ipython-input-27-ae4680b93359>:2, transformed by jit., this value became a tracer due to JAX operations on these lines:\n\n  operation c:int32[] = reduce_prod[ axes=(0,) ] b:int32[2]\n    from line <ipython-input-27-ae4680b93359>:4 (f)\n (https://jax.readthedocs.io/en/latest/errors.html#jax.errors.ConcretizationTypeError)"
          ]
        }
      ]
    },
    {
      "cell_type": "code",
      "metadata": {
        "colab": {
          "base_uri": "https://localhost:8080/"
        },
        "id": "VJvDFfDpX6mN",
        "outputId": "6f5304cd-c30d-4e55-e18e-4ebf7897e31d"
      },
      "source": [
        "# To understand why, it is good practice to print which is traced and which is not\n",
        "@jit\n",
        "def f(x):\n",
        "  print(f\"x = {x}\")\n",
        "  print(f\"x.shape = {x.shape}\")\n",
        "  print(f\"jnp.array(x.shape).prod() = {jnp.array(x.shape).prod()}\")\n",
        "  # comment this out to avoid the error:\n",
        "  # return x.reshape(jnp.array(x.shape).prod())\n",
        "\n",
        "f(x)"
      ],
      "execution_count": null,
      "outputs": [
        {
          "output_type": "stream",
          "text": [
            "x = Traced<ShapedArray(float32[2,3])>with<DynamicJaxprTrace(level=0/1)>\n",
            "x.shape = (2, 3)\n",
            "jnp.array(x.shape).prod() = Traced<ShapedArray(int32[])>with<DynamicJaxprTrace(level=0/1)>\n"
          ],
          "name": "stdout"
        }
      ]
    },
    {
      "cell_type": "code",
      "metadata": {
        "colab": {
          "base_uri": "https://localhost:8080/"
        },
        "id": "W0zr9zfCYJAs",
        "outputId": "74ab2d6b-b370-486f-927e-187c4c33e2e9"
      },
      "source": [
        "# Just replace it with numpy solves the problem\n",
        "@jit\n",
        "def f(x):\n",
        "  return x.reshape((np.prod(x.shape),))\n",
        "\n",
        "f(x)"
      ],
      "execution_count": null,
      "outputs": [
        {
          "output_type": "execute_result",
          "data": {
            "text/plain": [
              "DeviceArray([1., 1., 1., 1., 1., 1.], dtype=float32)"
            ]
          },
          "metadata": {
            "tags": []
          },
          "execution_count": 29
        }
      ]
    },
    {
      "cell_type": "markdown",
      "metadata": {
        "id": "BLJ-UGubYdVu"
      },
      "source": [
        "### Control flow"
      ]
    },
    {
      "cell_type": "code",
      "metadata": {
        "colab": {
          "base_uri": "https://localhost:8080/"
        },
        "id": "waSjfvAdYQ7x",
        "outputId": "e1428dc8-6578-475c-a349-ef8df630f35a"
      },
      "source": [
        "@jit\n",
        "def f(x, neg):\n",
        "  return lax.cond(neg, \n",
        "                  lambda x: x, \n",
        "                  lambda x: -x, \n",
        "                  x)\n",
        "print(f(x, True))\n",
        "print(f(x, False))"
      ],
      "execution_count": null,
      "outputs": [
        {
          "output_type": "stream",
          "text": [
            "[[1. 1. 1.]\n",
            " [1. 1. 1.]]\n",
            "[[-1. -1. -1.]\n",
            " [-1. -1. -1.]]\n"
          ],
          "name": "stdout"
        }
      ]
    },
    {
      "cell_type": "code",
      "metadata": {
        "id": "2mw0mreGZNo4"
      },
      "source": [
        "# Exercise: rewrite the following code using scan\n",
        "def cum(x):\n",
        "    for i in range(10):\n",
        "        x+=10\n",
        "    return x"
      ],
      "execution_count": null,
      "outputs": []
    },
    {
      "cell_type": "markdown",
      "metadata": {
        "id": "sJml5XvZbaV1"
      },
      "source": [
        "## PyTree"
      ]
    },
    {
      "cell_type": "code",
      "metadata": {
        "colab": {
          "base_uri": "https://localhost:8080/"
        },
        "id": "EXyvB92GZh23",
        "outputId": "c22669a8-3f88-4a30-eb3d-f76fc5308065"
      },
      "source": [
        "from jax import tree_map, tree_multimap\n",
        "list_of_lists = [\n",
        "    [1, 2, 3],\n",
        "    [1, 2],\n",
        "    [1, 2, 3, 4]\n",
        "]\n",
        "\n",
        "tree_map(lambda x: x*2, list_of_lists)"
      ],
      "execution_count": null,
      "outputs": [
        {
          "output_type": "execute_result",
          "data": {
            "text/plain": [
              "[[2, 4, 6], [2, 4], [2, 4, 6, 8]]"
            ]
          },
          "metadata": {
            "tags": []
          },
          "execution_count": 32
        }
      ]
    },
    {
      "cell_type": "code",
      "metadata": {
        "colab": {
          "base_uri": "https://localhost:8080/"
        },
        "id": "JsdaJfQ2bojG",
        "outputId": "d71e5c84-b62d-49fa-a51c-5a6c6e9b664e"
      },
      "source": [
        "another_list_of_lists = list_of_lists\n",
        "tree_multimap(lambda x, y: x+y*2, list_of_lists, another_list_of_lists)"
      ],
      "execution_count": null,
      "outputs": [
        {
          "output_type": "execute_result",
          "data": {
            "text/plain": [
              "[[3, 6, 9], [3, 6], [3, 6, 9, 12]]"
            ]
          },
          "metadata": {
            "tags": []
          },
          "execution_count": 33
        }
      ]
    },
    {
      "cell_type": "markdown",
      "metadata": {
        "id": "drorqBoCewgg"
      },
      "source": [
        "## vmap and pmap"
      ]
    },
    {
      "cell_type": "code",
      "metadata": {
        "id": "xFaDIFrIdVym"
      },
      "source": [
        "def predict(W, b, input_vec):\n",
        "    activations = input_vec\n",
        "    outputs = jnp.dot(W, activations) + b  # `input_vec` on the right-hand side!\n",
        "    activations = jnp.tanh(outputs)\n",
        "    return outputs"
      ],
      "execution_count": null,
      "outputs": []
    },
    {
      "cell_type": "code",
      "metadata": {
        "id": "KaQINSchgjpP"
      },
      "source": [
        "from jax import vmap\n",
        "W, b = jnp.ones((10, 5)), jnp.ones(1)\n",
        "input_batch = jnp.ones((64,5))\n",
        "predictions = vmap(predict, in_axes=(None, None, 0))(W, b, input_batch)\n",
        "print(predictions)"
      ],
      "execution_count": null,
      "outputs": []
    },
    {
      "cell_type": "markdown",
      "metadata": {
        "id": "nO056dEl63O2"
      },
      "source": [
        "# Implement Autograd using Jax"
      ]
    },
    {
      "cell_type": "markdown",
      "metadata": {
        "id": "-I_jKATQ8JzP"
      },
      "source": [
        "## Autograd basics"
      ]
    },
    {
      "cell_type": "code",
      "metadata": {
        "id": "z_KxScDq8Qcb"
      },
      "source": [
        "def toy1(w, b):\n",
        "    return jnp.dot(w, b).sum()"
      ],
      "execution_count": null,
      "outputs": []
    },
    {
      "cell_type": "code",
      "metadata": {
        "colab": {
          "base_uri": "https://localhost:8080/"
        },
        "id": "TXVA1BU28f4M",
        "outputId": "368cb97d-fcce-43ea-818a-94d9573e8cbf"
      },
      "source": [
        "w = jnp.ones((3, 3))\n",
        "b = jnp.ones(3)\n",
        "\n",
        "toy1(w, b)"
      ],
      "execution_count": null,
      "outputs": [
        {
          "output_type": "execute_result",
          "data": {
            "text/plain": [
              "DeviceArray(9., dtype=float32)"
            ]
          },
          "metadata": {
            "tags": []
          },
          "execution_count": 37
        }
      ]
    },
    {
      "cell_type": "code",
      "metadata": {
        "colab": {
          "base_uri": "https://localhost:8080/"
        },
        "id": "s32azv2l80AP",
        "outputId": "deef0fa5-fa15-4ebc-a264-8f20e29fba3a"
      },
      "source": [
        "from jax import grad, value_and_grad\n",
        "print(grad(toy1)(w, b))"
      ],
      "execution_count": null,
      "outputs": [
        {
          "output_type": "stream",
          "text": [
            "[[1. 1. 1.]\n",
            " [1. 1. 1.]\n",
            " [1. 1. 1.]]\n"
          ],
          "name": "stdout"
        }
      ]
    },
    {
      "cell_type": "code",
      "metadata": {
        "colab": {
          "base_uri": "https://localhost:8080/"
        },
        "id": "YVM0emuF9AZ6",
        "outputId": "a2519d56-e294-40ee-86d9-b554f57aee33"
      },
      "source": [
        "print(grad(toy1, (0, ))(w, b))"
      ],
      "execution_count": null,
      "outputs": [
        {
          "output_type": "stream",
          "text": [
            "(DeviceArray([[1., 1., 1.],\n",
            "             [1., 1., 1.],\n",
            "             [1., 1., 1.]], dtype=float32),)\n"
          ],
          "name": "stdout"
        }
      ]
    },
    {
      "cell_type": "code",
      "metadata": {
        "colab": {
          "base_uri": "https://localhost:8080/"
        },
        "id": "5_kYqXIZ9DrW",
        "outputId": "349ab68e-4631-4bf3-d5d9-ecb297574ca9"
      },
      "source": [
        "print(grad(toy1, (1, ))(w, b))"
      ],
      "execution_count": null,
      "outputs": [
        {
          "output_type": "stream",
          "text": [
            "(DeviceArray([3., 3., 3.], dtype=float32),)\n"
          ],
          "name": "stdout"
        }
      ]
    },
    {
      "cell_type": "code",
      "metadata": {
        "colab": {
          "base_uri": "https://localhost:8080/"
        },
        "id": "2gmlZ1VR9Xdw",
        "outputId": "1960f699-e42f-420b-f5ba-c475acc3bb50"
      },
      "source": [
        "print(grad(toy1, (0, 1))(w, b))"
      ],
      "execution_count": null,
      "outputs": [
        {
          "output_type": "stream",
          "text": [
            "(DeviceArray([[1., 1., 1.],\n",
            "             [1., 1., 1.],\n",
            "             [1., 1., 1.]], dtype=float32), DeviceArray([3., 3., 3.], dtype=float32))\n"
          ],
          "name": "stdout"
        }
      ]
    },
    {
      "cell_type": "code",
      "metadata": {
        "colab": {
          "base_uri": "https://localhost:8080/"
        },
        "id": "o4Qret5M9hgr",
        "outputId": "8c90fb03-f983-45af-bbc7-0de266b52acf"
      },
      "source": [
        "# A more convenient way\n",
        "def toy2(params):\n",
        "    return jnp.dot(params['w'], params['b']).sum()\n",
        "\n",
        "params = dict()\n",
        "params['w'] = w\n",
        "params['b'] = b\n",
        "\n",
        "print(toy2(params))"
      ],
      "execution_count": null,
      "outputs": [
        {
          "output_type": "stream",
          "text": [
            "9.0\n"
          ],
          "name": "stdout"
        }
      ]
    },
    {
      "cell_type": "code",
      "metadata": {
        "colab": {
          "base_uri": "https://localhost:8080/"
        },
        "id": "U_oO-4vv9uOt",
        "outputId": "a9c18892-c40a-4555-e9e8-24e14c26865f"
      },
      "source": [
        "print(grad(toy2)(params))"
      ],
      "execution_count": null,
      "outputs": [
        {
          "output_type": "stream",
          "text": [
            "{'b': DeviceArray([3., 3., 3.], dtype=float32), 'w': DeviceArray([[1., 1., 1.],\n",
            "             [1., 1., 1.],\n",
            "             [1., 1., 1.]], dtype=float32)}\n"
          ],
          "name": "stdout"
        }
      ]
    },
    {
      "cell_type": "markdown",
      "metadata": {
        "id": "JBWruMzJ_jiw"
      },
      "source": [
        "## Defining our own autograd functions"
      ]
    },
    {
      "cell_type": "code",
      "metadata": {
        "id": "FHfajJrq_i0I"
      },
      "source": [
        "from jax import custom_jvp\n",
        "\n",
        "### This is the original function \n",
        "@custom_jvp\n",
        "def log1pexp(x):\n",
        "  return jnp.log(1. + jnp.exp(x))\n",
        "\n",
        "### This is the definition of custom jvp \n",
        "@log1pexp.defjvp\n",
        "def log1pexp_jvp(primals, tangents):\n",
        "  x, = primals # This is the original input\n",
        "  x_dot, = tangents # This is the tangents associated with x\n",
        "  ans = log1pexp(x) # The function value\n",
        "  ans_dot = (1 - 1/(1 + jnp.exp(x))) * x_dot # The derivative w.r.t. to times the tangets of x\n",
        "  return ans, ans_dot"
      ],
      "execution_count": null,
      "outputs": []
    },
    {
      "cell_type": "markdown",
      "metadata": {
        "id": "S98uqya3_7hP"
      },
      "source": [
        "## Entmax-$\\alpha$ implementation"
      ]
    },
    {
      "cell_type": "code",
      "metadata": {
        "id": "WadJHsFtA5Z4"
      },
      "source": [
        "import jax.numpy as jnp\n",
        "from jax import grad, jit, value_and_grad\n",
        "from jax import vmap, pmap\n",
        "from jax import random\n",
        "import jax\n",
        "from jax import lax\n",
        "from jax import custom_jvp\n",
        "\n",
        "def p_tau(z, tau, alpha=1.5):\n",
        "    return jnp.clip((alpha - 1) * z - tau, 0) ** (1 / (alpha - 1))\n",
        "\n",
        "\n",
        "def get_tau(tau, tau_max, tau_min, z_value):\n",
        "    return lax.cond(z_value < 1,\n",
        "                    lambda _: (tau, tau_min),\n",
        "                    lambda _: (tau_max, tau),\n",
        "                    operand=None\n",
        "                    )\n",
        "    \n",
        "def body(kwargs, x):\n",
        "    tau_min = kwargs['tau_min']\n",
        "    tau_max = kwargs['tau_max']\n",
        "    z = kwargs['z']\n",
        "    alpha = kwargs['alpha']\n",
        "\n",
        "    tau = (tau_min + tau_max) / 2\n",
        "    z_value = p_tau(z, tau, alpha).sum()\n",
        "    taus = get_tau(tau, tau_max, tau_min, z_value)\n",
        "    tau_max, tau_min = taus[0], taus[1]\n",
        "    return {'tau_min': tau_min, 'tau_max': tau_max, 'z': z, 'alpha': alpha}, None\n",
        "\n",
        "def map_row(z_input, alpha, T):\n",
        "    z = (alpha - 1) * z_input\n",
        "\n",
        "    tau_min, tau_max = jnp.min(z) - 1, jnp.max(z) - z.shape[0] ** (1 - alpha)\n",
        "    result, _ = lax.scan(body, {'tau_min': tau_min, 'tau_max': tau_max, 'z': z, 'alpha': alpha}, xs=None,\n",
        "                         length=T)\n",
        "    tau = (result['tau_max'] + result['tau_min']) / 2\n",
        "    result = p_tau(z, tau, alpha)\n",
        "    return result / result.sum()\n",
        "\n",
        "def _entmax(input, axis=-1, alpha=1.5, T=20):\n",
        "    result = vmap(lambda z: map_row(z, alpha, T), axis)(input) ## Pay attention here!\n",
        "    return result\n",
        "\n",
        "def entmax(input, axis=-1, alpha=1.5, T=10):\n",
        "    return _entmax(input, axis, alpha, T)\n",
        "\n"
      ],
      "execution_count": null,
      "outputs": []
    },
    {
      "cell_type": "code",
      "metadata": {
        "colab": {
          "base_uri": "https://localhost:8080/"
        },
        "id": "ebdvAmZhCoKS",
        "outputId": "eaf9bd56-f2d7-4c47-a0f8-cedd8fd68fd6"
      },
      "source": [
        "import numpy as np\n",
        "input = jnp.array(np.random.randn(64, 10)).block_until_ready()\n",
        "weight = jnp.array(np.random.randn(64, 10)).block_until_ready()\n",
        "\n",
        "def toy(input, weight):\n",
        "    return (weight*entmax(input, 0, 1.5, 20)).sum()\n",
        "\n",
        "toy(input, weight)"
      ],
      "execution_count": null,
      "outputs": [
        {
          "output_type": "execute_result",
          "data": {
            "text/plain": [
              "DeviceArray(8.167998, dtype=float32)"
            ]
          },
          "metadata": {
            "tags": []
          },
          "execution_count": 56
        }
      ]
    },
    {
      "cell_type": "code",
      "metadata": {
        "id": "6J9uK60MCa7m"
      },
      "source": [
        "@jax.partial(custom_jvp, nondiff_argnums=(1, 2, 3,))\n",
        "def entmax(input, axis=-1, alpha=1.5, T=10):\n",
        "    return _entmax(input, axis, alpha, T)\n",
        "\n",
        "def _entmax_jvp_impl(axis, alpha, T, primals, tangents):\n",
        "    input = primals[0]\n",
        "    Y = entmax(input, axis, alpha, T)\n",
        "    gppr = Y  ** (2 - alpha)\n",
        "    grad_output = tangents[0]\n",
        "    dX = grad_output * gppr\n",
        "    q = dX.sum(axis=axis) / gppr.sum(axis=axis)\n",
        "    q = jnp.expand_dims(q, axis=axis)\n",
        "    dX -= q * gppr\n",
        "    return Y, dX\n",
        "\n",
        "\n",
        "@entmax.defjvp\n",
        "def entmax_jvp(axis, alpha, T, primals, tangents):\n",
        "    return _entmax_jvp_impl(axis, alpha, T, primals, tangents)"
      ],
      "execution_count": null,
      "outputs": []
    },
    {
      "cell_type": "code",
      "metadata": {
        "colab": {
          "base_uri": "https://localhost:8080/"
        },
        "id": "9b2l7VmZCZp2",
        "outputId": "c83b6c02-8023-4281-b98e-64ecb296eb6d"
      },
      "source": [
        "import numpy as np\n",
        "input = jnp.array(np.random.randn(64, 10)).block_until_ready()\n",
        "weight = jnp.array(np.random.randn(64, 10)).block_until_ready()\n",
        "\n",
        "def toy(input, weight):\n",
        "    return (weight*entmax(input, 0, 1.5, 20)).sum()\n",
        "\n",
        "value_and_grad(toy)(input, weight)"
      ],
      "execution_count": null,
      "outputs": [
        {
          "output_type": "execute_result",
          "data": {
            "text/plain": [
              "(DeviceArray(5.219076, dtype=float32),\n",
              " DeviceArray([[ 9.20430869e-02,  2.55589876e-02,  9.70999748e-02,\n",
              "               -1.48003921e-01,  3.68221849e-01,  8.76951963e-02,\n",
              "               -2.42806301e-01, -8.62555429e-02,  1.65654510e-01,\n",
              "                0.00000000e+00],\n",
              "              [-2.18896680e-02,  6.26884401e-02,  2.98321128e-01,\n",
              "                0.00000000e+00, -4.10345271e-02, -1.58703014e-01,\n",
              "                1.54489398e-01, -1.68707818e-01,  0.00000000e+00,\n",
              "                1.38728499e+00],\n",
              "              [-9.53757241e-02,  2.80622810e-01, -0.00000000e+00,\n",
              "               -2.75156528e-01,  1.17984172e-02,  1.63770449e+00,\n",
              "                9.73208435e-03,  0.00000000e+00,  7.07152393e-03,\n",
              "                0.00000000e+00],\n",
              "              [-5.86056001e-02,  3.85744303e-01,  2.90085286e-01,\n",
              "                0.00000000e+00, -0.00000000e+00,  4.16471958e-02,\n",
              "               -1.52479634e-01,  2.15069398e-01,  0.00000000e+00,\n",
              "               -0.00000000e+00],\n",
              "              [-3.53923082e-01, -3.46538812e-01, -3.30521651e-02,\n",
              "               -7.41916001e-02, -2.79956698e-01, -3.71905744e-01,\n",
              "               -0.00000000e+00,  1.34817347e-01,  3.19293290e-01,\n",
              "                2.07044538e-02],\n",
              "              [ 2.40751281e-02,  6.89970374e-01, -3.68183434e-01,\n",
              "                0.00000000e+00, -5.12913503e-02,  7.67944992e-01,\n",
              "                7.12904185e-02, -0.00000000e+00,  5.28058037e-02,\n",
              "                6.57525361e-02],\n",
              "              [ 4.00103241e-01,  3.44156213e-02,  1.39908776e-01,\n",
              "               -3.92925531e-01,  0.00000000e+00, -1.13249391e-01,\n",
              "                1.38398916e-01, -1.89502127e-02,  1.43515170e-01,\n",
              "               -1.11121714e+00],\n",
              "              [ 0.00000000e+00, -3.90705187e-03, -2.41381019e-01,\n",
              "                0.00000000e+00,  0.00000000e+00,  5.12365997e-01,\n",
              "               -6.60993159e-01,  5.71746647e-01,  1.32827029e-01,\n",
              "               -3.77564430e-01],\n",
              "              [ 1.17268302e-01, -0.00000000e+00, -3.89621437e-01,\n",
              "                1.82650045e-01,  8.60345885e-02, -2.24785194e-01,\n",
              "                4.50372547e-01,  6.78859353e-01, -4.39385563e-01,\n",
              "                9.62646399e-03],\n",
              "              [-3.77666838e-02,  4.44156267e-02, -0.00000000e+00,\n",
              "                5.19072488e-02,  4.02101141e-04, -0.00000000e+00,\n",
              "                0.00000000e+00, -3.31795186e-01,  7.57265016e-02,\n",
              "               -1.76139504e-01],\n",
              "              [ 7.97431916e-02, -1.53165355e-01, -0.00000000e+00,\n",
              "                7.23962337e-02,  2.10994974e-01,  9.19366181e-01,\n",
              "                2.04532027e-01,  1.59591854e+00,  2.19608769e-02,\n",
              "               -3.45989674e-01],\n",
              "              [-5.33875376e-02,  5.23658423e-03, -2.52891213e-01,\n",
              "               -2.49545395e-01, -1.95575431e-01, -1.99115381e-01,\n",
              "                2.72833467e-01,  0.00000000e+00,  4.09144521e-01,\n",
              "                2.61338145e-01],\n",
              "              [-3.97543572e-02, -2.56036431e-01, -1.69457644e-02,\n",
              "                5.43966055e-01,  0.00000000e+00, -4.93644118e-01,\n",
              "               -9.55366567e-02,  2.00813338e-01, -0.00000000e+00,\n",
              "               -3.92010808e-02],\n",
              "              [ 5.98266982e-02, -8.58966913e-03, -3.84102343e-03,\n",
              "               -2.34612852e-01,  3.31174821e-01,  2.32346281e-01,\n",
              "               -2.81678855e-01, -8.40446949e-02, -0.00000000e+00,\n",
              "               -4.28565919e-01],\n",
              "              [ 9.90382507e-02, -1.75168440e-01, -1.83604866e-01,\n",
              "                6.27201676e-01,  7.61210740e-01, -8.65234196e-01,\n",
              "               -4.02338542e-02, -2.46576797e-02, -2.18524382e-01,\n",
              "                4.73993644e-02],\n",
              "              [-7.27127910e-01, -7.96772420e-01,  1.29731029e-01,\n",
              "                0.00000000e+00, -5.04491389e-01, -0.00000000e+00,\n",
              "               -1.28200091e-02, -5.08905798e-02,  0.00000000e+00,\n",
              "               -0.00000000e+00],\n",
              "              [ 9.13249031e-02, -3.00227284e-01,  4.04422320e-02,\n",
              "               -7.85551250e-01,  4.32717562e-01,  0.00000000e+00,\n",
              "               -4.10567254e-01, -1.07766688e-01, -1.58472255e-01,\n",
              "               -1.41649649e-01],\n",
              "              [-0.00000000e+00, -0.00000000e+00, -1.03700519e+00,\n",
              "                0.00000000e+00,  0.00000000e+00, -1.31531497e-02,\n",
              "                2.75917560e-01, -0.00000000e+00,  1.12265656e-02,\n",
              "               -0.00000000e+00],\n",
              "              [-1.20637849e-01, -0.00000000e+00, -7.51833469e-02,\n",
              "                5.36520332e-02,  5.27823642e-02, -1.62597403e-01,\n",
              "                3.51438135e-01, -4.40455526e-02, -1.23204425e-01,\n",
              "                9.16384682e-02],\n",
              "              [ 6.10572584e-02, -6.78953767e-01,  2.78316945e-01,\n",
              "               -0.00000000e+00,  9.66002271e-02, -1.36757329e-01,\n",
              "                9.43884999e-03,  5.56881204e-02,  8.87676235e-03,\n",
              "                2.29001507e-01],\n",
              "              [-4.63355407e-02,  2.39914581e-01, -2.15574563e-01,\n",
              "                3.40615928e-01, -2.38893121e-01, -2.22055420e-01,\n",
              "               -1.93761498e-01,  5.45066521e-02, -1.53422207e-01,\n",
              "               -2.30793536e-01],\n",
              "              [ 2.98876137e-01, -2.25642726e-01, -8.52964893e-02,\n",
              "                6.68631017e-01,  0.00000000e+00, -1.09666571e-01,\n",
              "               -1.11069568e-01, -1.88335210e-01, -7.19715059e-02,\n",
              "               -7.32494965e-02],\n",
              "              [-0.00000000e+00, -7.09916130e-02,  1.17266186e-01,\n",
              "               -2.47823551e-01, -1.45856723e-01,  1.27595484e-01,\n",
              "               -0.00000000e+00,  2.77802765e-01, -1.28325865e-01,\n",
              "               -2.48192295e-01],\n",
              "              [-1.08324662e-01, -0.00000000e+00, -7.65004992e-01,\n",
              "               -0.00000000e+00,  0.00000000e+00, -1.48188267e-02,\n",
              "               -0.00000000e+00,  2.62049913e-01, -1.04767054e-01,\n",
              "                6.75037503e-02],\n",
              "              [ 8.91547129e-02,  6.06577545e-02,  4.34269875e-01,\n",
              "               -4.09784079e-01,  4.73567098e-01,  5.10564260e-02,\n",
              "                3.36526223e-02, -1.28578558e-03, -1.51974037e-01,\n",
              "                2.30694413e-01],\n",
              "              [ 6.04594760e-02, -4.04650182e-01,  2.79170033e-02,\n",
              "               -1.92062974e-01,  5.72346747e-02, -0.00000000e+00,\n",
              "               -8.86940062e-01,  6.49793744e-01, -9.34997723e-02,\n",
              "               -0.00000000e+00],\n",
              "              [ 2.48987903e-03,  1.28264770e-01,  0.00000000e+00,\n",
              "                0.00000000e+00, -2.59240828e-02, -5.35195172e-01,\n",
              "                0.00000000e+00, -9.04760435e-02,  0.00000000e+00,\n",
              "                4.13884483e-02],\n",
              "              [-0.00000000e+00, -0.00000000e+00, -3.65848869e-01,\n",
              "                0.00000000e+00,  1.84181020e-01, -0.00000000e+00,\n",
              "                1.53391972e-01,  1.36138825e-02,  3.24001610e-01,\n",
              "                9.38156322e-02],\n",
              "              [ 0.00000000e+00, -0.00000000e+00,  1.34764731e-01,\n",
              "               -0.00000000e+00, -3.00773263e-01, -0.00000000e+00,\n",
              "               -6.66729510e-02,  1.48285717e-01, -5.91644160e-02,\n",
              "                1.62621271e-02],\n",
              "              [ 0.00000000e+00, -2.81696528e-01, -0.00000000e+00,\n",
              "                6.47958815e-02, -4.24089171e-02, -7.83149600e-01,\n",
              "               -3.56106520e-01, -2.23253697e-01, -1.50314063e-01,\n",
              "                1.49674401e-01],\n",
              "              [-0.00000000e+00,  8.91268849e-02, -1.86009128e-02,\n",
              "               -2.26788431e-01,  2.74644613e-01,  2.05847681e-01,\n",
              "               -9.59083363e-02, -1.62569046e-01, -5.58559643e-03,\n",
              "                0.00000000e+00],\n",
              "              [-5.69217801e-02, -2.56304175e-01,  1.76734328e-01,\n",
              "               -1.61515385e-01,  0.00000000e+00, -3.63303423e-01,\n",
              "               -2.11177338e-02, -5.64968586e-01,  1.14233330e-01,\n",
              "                2.91458398e-01],\n",
              "              [-3.40834230e-01, -3.59084010e-01,  6.92843646e-02,\n",
              "                2.55557988e-02, -5.43820679e-01,  2.48437718e-01,\n",
              "                7.99290717e-01,  5.80306202e-02,  5.78929901e-01,\n",
              "                9.80382338e-02],\n",
              "              [ 1.54952839e-01,  6.71462715e-02, -4.38365452e-02,\n",
              "                5.56560680e-02, -6.05762675e-02,  3.78870107e-02,\n",
              "               -0.00000000e+00,  8.91601026e-01, -3.03907823e-02,\n",
              "                7.44504295e-03],\n",
              "              [ 4.17982042e-01, -3.65321755e-01,  3.90868168e-03,\n",
              "                3.38788241e-01, -0.00000000e+00, -1.20314324e+00,\n",
              "               -2.87522763e-01, -0.00000000e+00,  3.62590224e-01,\n",
              "                1.88902006e-01],\n",
              "              [-2.55447102e+00,  6.19488321e-02, -0.00000000e+00,\n",
              "                4.36434686e-01,  2.96321660e-01, -0.00000000e+00,\n",
              "                7.03817368e-01, -0.00000000e+00, -2.68219654e-02,\n",
              "                8.75870660e-02],\n",
              "              [ 1.39579862e-01, -0.00000000e+00,  1.48154393e-01,\n",
              "                1.13151312e-01,  3.44229519e-01,  2.18074173e-01,\n",
              "                2.28632420e-01,  0.00000000e+00, -6.92150354e-01,\n",
              "               -1.01037174e-02],\n",
              "              [ 6.05271757e-01, -3.02927718e-02, -0.00000000e+00,\n",
              "                6.46030018e-03, -3.29658866e-01,  4.00538556e-02,\n",
              "               -0.00000000e+00,  3.93710136e-01,  1.72175989e-02,\n",
              "                0.00000000e+00],\n",
              "              [ 8.95653307e-01, -0.00000000e+00, -0.00000000e+00,\n",
              "               -2.07565054e-01, -1.31730074e-02, -3.52785230e-01,\n",
              "                0.00000000e+00, -4.95218486e-01, -4.72691834e-01,\n",
              "               -0.00000000e+00],\n",
              "              [ 2.73781195e-02, -4.28669482e-01,  7.01920092e-01,\n",
              "                3.21916640e-02, -5.44619672e-02,  3.23504746e-01,\n",
              "               -1.50263131e-01, -4.82835144e-01,  1.02916680e-01,\n",
              "               -3.46913099e-01],\n",
              "              [ 0.00000000e+00,  1.01759315e-01, -7.20534325e-01,\n",
              "               -3.42227489e-01, -2.07436770e-01,  2.88307995e-01,\n",
              "               -1.93293720e-01, -5.94522536e-01, -0.00000000e+00,\n",
              "                0.00000000e+00],\n",
              "              [-1.05384514e-01, -1.63612626e-02,  2.29684666e-01,\n",
              "                0.00000000e+00, -6.16266485e-03,  1.30024409e+00,\n",
              "               -3.18431288e-01, -1.17329314e-01, -3.42990756e-02,\n",
              "               -0.00000000e+00],\n",
              "              [-1.05988689e-01, -0.00000000e+00,  1.86514426e-02,\n",
              "                1.43274918e-01,  3.29683162e-02, -2.72176266e-01,\n",
              "               -7.72877112e-02, -9.33950007e-01,  6.30635083e-01,\n",
              "                0.00000000e+00],\n",
              "              [ 4.37945157e-01,  2.25388408e-01, -0.00000000e+00,\n",
              "                1.46681026e-01, -3.76052022e-01, -6.24398794e-03,\n",
              "               -4.89379391e-02, -4.79562320e-02,  4.27099317e-03,\n",
              "               -2.26928487e-01],\n",
              "              [ 0.00000000e+00,  1.20721608e-01,  6.18479908e-01,\n",
              "               -5.23414373e-01, -3.85939777e-01, -4.28862780e-01,\n",
              "               -8.16373602e-02, -4.97927696e-01, -1.94607256e-03,\n",
              "                0.00000000e+00],\n",
              "              [-2.33451203e-01, -1.18969202e-01,  4.58099127e-01,\n",
              "               -1.23238504e-01,  2.62121975e-01,  0.00000000e+00,\n",
              "                9.17087775e-03,  5.67616820e-01, -3.55695523e-02,\n",
              "                3.26737724e-02],\n",
              "              [ 1.29687384e-01,  5.16991079e-01,  8.99433047e-02,\n",
              "               -2.07428932e-02, -2.77294815e-02,  2.73061514e-01,\n",
              "                0.00000000e+00,  3.14023226e-01, -1.29400522e-01,\n",
              "                2.05712080e-01],\n",
              "              [ 1.81603041e-02,  1.61435887e-01, -0.00000000e+00,\n",
              "               -2.50730980e-02, -0.00000000e+00, -2.71700650e-01,\n",
              "                1.02380719e-02, -0.00000000e+00, -1.67260185e-01,\n",
              "                3.97180080e-01],\n",
              "              [ 2.10459158e-03, -0.00000000e+00, -3.69049430e-01,\n",
              "                0.00000000e+00, -8.07074249e-01,  6.11722767e-01,\n",
              "                6.67240918e-02,  2.47120470e-01, -1.95788980e-01,\n",
              "                0.00000000e+00],\n",
              "              [ 0.00000000e+00,  1.10015363e-01,  1.69896148e-02,\n",
              "               -0.00000000e+00,  5.19623309e-02, -1.25853896e+00,\n",
              "               -2.55861253e-01,  0.00000000e+00, -2.69315522e-02,\n",
              "                5.56836367e-01],\n",
              "              [-0.00000000e+00,  3.28076571e-01,  5.48141673e-02,\n",
              "                1.94763690e-01,  1.27019854e-02, -4.23864484e-01,\n",
              "                2.56454907e-02,  0.00000000e+00,  0.00000000e+00,\n",
              "                2.31380641e-01],\n",
              "              [-0.00000000e+00,  1.13590920e+00,  4.11909036e-02,\n",
              "                1.56857759e-01,  3.05056828e-03,  0.00000000e+00,\n",
              "                1.69861600e-01, -7.08420157e-01, -3.94680202e-02,\n",
              "               -2.60117292e-01],\n",
              "              [-1.47524513e-02,  5.19773781e-01,  9.01135862e-01,\n",
              "               -2.98783630e-01, -0.00000000e+00, -0.00000000e+00,\n",
              "               -6.69662178e-01, -3.47400010e-01,  8.88571218e-02,\n",
              "               -2.20004935e-02],\n",
              "              [-0.00000000e+00,  0.00000000e+00, -2.10690662e-01,\n",
              "                1.04747891e-01,  5.18298447e-01,  0.00000000e+00,\n",
              "                2.09980249e-01,  6.65152371e-02, -2.35870734e-01,\n",
              "               -1.35754481e-01],\n",
              "              [-2.67213523e-01, -8.58571231e-02,  3.42229469e-05,\n",
              "               -2.73559660e-01,  0.00000000e+00,  1.97856259e-02,\n",
              "               -8.26953351e-02, -5.13697982e-01,  4.00771536e-02,\n",
              "               -4.10948545e-01],\n",
              "              [ 5.40948629e-01, -4.10948694e-01, -3.51867452e-02,\n",
              "                2.24669576e-01,  5.09184971e-02, -6.47693872e-01,\n",
              "                1.57272015e-02, -5.89563310e-01,  4.71293256e-02,\n",
              "               -1.80205586e-03],\n",
              "              [ 0.00000000e+00,  0.00000000e+00,  2.39998326e-01,\n",
              "                3.98196310e-01, -2.81286123e-03,  1.06933296e+00,\n",
              "                4.35174316e-01,  6.53974563e-02,  1.90639243e-01,\n",
              "                5.89290500e-01],\n",
              "              [ 1.96835041e-01,  1.39453545e-01,  4.72596675e-01,\n",
              "                7.73489242e-04,  1.90199967e-02, -2.95372635e-01,\n",
              "                5.12655437e-01, -2.98640221e-01, -6.75585195e-02,\n",
              "               -5.33032537e-01],\n",
              "              [-0.00000000e+00, -0.00000000e+00, -2.27595493e-01,\n",
              "                2.53002644e-01, -6.72664717e-02, -5.28446063e-02,\n",
              "               -1.01727769e-01, -1.98435768e-01,  1.08247951e-01,\n",
              "                6.45353347e-02],\n",
              "              [-5.09259164e-01,  7.48289302e-02,  1.32275209e-01,\n",
              "               -0.00000000e+00,  1.92403406e-01, -0.00000000e+00,\n",
              "                1.79045916e-01,  3.66234750e-01, -5.24543762e-01,\n",
              "                1.96782164e-02],\n",
              "              [-0.00000000e+00,  2.82082409e-01, -3.15666348e-02,\n",
              "               -5.45463264e-02,  1.80282041e-01,  4.20902580e-01,\n",
              "               -2.82414377e-01, -1.17587820e-01,  6.40636623e-01,\n",
              "               -3.53665322e-01],\n",
              "              [-0.00000000e+00, -1.54389337e-01, -3.15030485e-01,\n",
              "               -0.00000000e+00, -2.97691345e-01,  2.73508936e-01,\n",
              "                0.00000000e+00, -8.29282850e-02, -0.00000000e+00,\n",
              "                0.00000000e+00],\n",
              "              [ 4.96036530e-01,  6.47611842e-02, -1.77441671e-01,\n",
              "                1.16199002e-01, -2.02078655e-01,  2.72167027e-01,\n",
              "                4.04931694e-01,  1.20551750e-01, -0.00000000e+00,\n",
              "               -0.00000000e+00],\n",
              "              [ 3.13409090e-01, -2.83710714e-02, -1.79050654e-01,\n",
              "               -8.61079246e-02, -9.77035910e-02,  0.00000000e+00,\n",
              "                2.82043815e-01,  2.24647745e-01, -5.91821894e-02,\n",
              "               -8.97388067e-03]], dtype=float32))"
            ]
          },
          "metadata": {
            "tags": []
          },
          "execution_count": 59
        }
      ]
    },
    {
      "cell_type": "code",
      "metadata": {
        "colab": {
          "base_uri": "https://localhost:8080/"
        },
        "id": "wStaavHI_6-r",
        "outputId": "aceaf233-ffb0-4c46-fcfe-1e88936f483c"
      },
      "source": [
        "import jax.numpy as jnp\n",
        "from jax import grad, jit, value_and_grad\n",
        "from jax import vmap, pmap\n",
        "from jax import random\n",
        "import jax\n",
        "from jax import lax\n",
        "from jax import custom_jvp\n",
        "\n",
        "\n",
        "def p_tau(z, tau, alpha=1.5):\n",
        "    return jnp.clip((alpha - 1) * z - tau, 0) ** (1 / (alpha - 1))\n",
        "\n",
        "\n",
        "def get_tau(tau, tau_max, tau_min, z_value):\n",
        "    return lax.cond(z_value < 1,\n",
        "                    lambda _: (tau, tau_min),\n",
        "                    lambda _: (tau_max, tau),\n",
        "                    operand=None\n",
        "                    )\n",
        "\n",
        "\n",
        "def body(kwargs, x):\n",
        "    tau_min = kwargs['tau_min']\n",
        "    tau_max = kwargs['tau_max']\n",
        "    z = kwargs['z']\n",
        "    alpha = kwargs['alpha']\n",
        "\n",
        "    tau = (tau_min + tau_max) / 2\n",
        "    z_value = p_tau(z, tau, alpha).sum()\n",
        "    taus = get_tau(tau, tau_max, tau_min, z_value)\n",
        "    tau_max, tau_min = taus[0], taus[1]\n",
        "    return {'tau_min': tau_min, 'tau_max': tau_max, 'z': z, 'alpha': alpha}, None\n",
        "\n",
        "@jax.partial(jax.jit, static_argnums=(2,))\n",
        "def map_row(z_input, alpha, T):\n",
        "    z = (alpha - 1) * z_input\n",
        "\n",
        "    tau_min, tau_max = jnp.min(z) - 1, jnp.max(z) - z.shape[0] ** (1 - alpha)\n",
        "    result, _ = lax.scan(body, {'tau_min': tau_min, 'tau_max': tau_max, 'z': z, 'alpha': alpha}, xs=None,\n",
        "                         length=T)\n",
        "    tau = (result['tau_max'] + result['tau_min']) / 2\n",
        "    result = p_tau(z, tau, alpha)\n",
        "    return result / result.sum()\n",
        "\n",
        "@jax.partial(jax.jit, static_argnums=(1,3,))\n",
        "def _entmax(input, axis=-1, alpha=1.5, T=20):\n",
        "    result = vmap(lambda z: map_row(z, alpha, T), axis)(input)\n",
        "    return result\n",
        "\n",
        "@jax.partial(custom_jvp, nondiff_argnums=(1, 2, 3,))\n",
        "def entmax(input, axis=-1, alpha=1.5, T=10):\n",
        "    return _entmax(input, axis, alpha, T)\n",
        "\n",
        "@jax.partial(jax.jit, static_argnums=(0,2,))    \n",
        "def _entmax_jvp_impl(axis, alpha, T, primals, tangents):\n",
        "    input = primals[0]\n",
        "    Y = entmax(input, axis, alpha, T)\n",
        "    gppr = Y  ** (2 - alpha)\n",
        "    grad_output = tangents[0]\n",
        "    dX = grad_output * gppr\n",
        "    q = dX.sum(axis=axis) / gppr.sum(axis=axis)\n",
        "    q = jnp.expand_dims(q, axis=axis)\n",
        "    dX -= q * gppr\n",
        "    return Y, dX\n",
        "\n",
        "\n",
        "@entmax.defjvp\n",
        "def entmax_jvp(axis, alpha, T, primals, tangents):\n",
        "    return _entmax_jvp_impl(axis, alpha, T, primals, tangents)\n",
        "\n",
        "import numpy as np\n",
        "input = jnp.array(np.random.randn(64, 10)).block_until_ready()\n",
        "weight = jnp.array(np.random.randn(64, 10)).block_until_ready()\n",
        "\n",
        "def toy(input, weight):\n",
        "    return (weight*entmax(input, 0, 1.5, 20)).sum()\n",
        "\n",
        "jax.jit(value_and_grad(toy))(input, weight)"
      ],
      "execution_count": null,
      "outputs": [
        {
          "output_type": "execute_result",
          "data": {
            "text/plain": [
              "(DeviceArray(3.5463314, dtype=float32),\n",
              " DeviceArray([[ 0.00000000e+00, -9.28829432e-01,  1.49818644e-01,\n",
              "                8.19825530e-01,  0.00000000e+00, -9.33015406e-01,\n",
              "               -1.50957555e-01, -2.59509310e-02,  1.53118121e-02,\n",
              "               -1.00283481e-01],\n",
              "              [-5.03038764e-02,  2.88019031e-02,  5.03074788e-02,\n",
              "               -3.37607563e-01, -8.93707499e-02,  6.79402351e-01,\n",
              "               -3.41596955e-04, -2.95041502e-01,  5.44383116e-02,\n",
              "                1.10143265e-02],\n",
              "              [ 2.80410666e-02,  3.04949880e-02,  0.00000000e+00,\n",
              "               -0.00000000e+00,  4.97258455e-01,  5.13189249e-02,\n",
              "               -4.07762965e-03,  0.00000000e+00, -3.51836272e-02,\n",
              "               -3.70255321e-01],\n",
              "              [-3.07102263e-01,  7.89324790e-02, -7.85121694e-03,\n",
              "               -5.40790319e-01,  0.00000000e+00, -2.78178394e-01,\n",
              "               -9.22627896e-02, -3.53259332e-02, -2.95178555e-02,\n",
              "               -0.00000000e+00],\n",
              "              [-2.68901922e-02, -3.83720994e-01, -8.67122233e-01,\n",
              "                0.00000000e+00, -0.00000000e+00,  2.65245527e-01,\n",
              "                3.49709988e-02,  1.20123275e-01,  0.00000000e+00,\n",
              "                0.00000000e+00],\n",
              "              [ 2.07699798e-02, -3.63281935e-01,  1.33875474e-01,\n",
              "               -2.32577413e-01, -7.19278395e-01,  3.46562177e-01,\n",
              "               -4.59428169e-02,  9.07740518e-02, -4.96519029e-01,\n",
              "               -0.00000000e+00],\n",
              "              [ 2.77807564e-01,  8.75026546e-03, -1.49312317e-01,\n",
              "                3.42768401e-01,  3.47933620e-01,  4.62797098e-02,\n",
              "                8.85778069e-02,  1.48401409e-01,  8.34659874e-01,\n",
              "                1.26166806e-01],\n",
              "              [ 1.43205628e-01,  1.38895288e-01, -4.91677411e-02,\n",
              "               -0.00000000e+00,  2.79406309e-01,  2.10087255e-01,\n",
              "               -8.65521878e-02,  1.98913455e-01,  3.76334190e-02,\n",
              "               -3.42119969e-02],\n",
              "              [-1.34058446e-01, -4.32989717e-01, -4.92800772e-02,\n",
              "               -9.84386727e-02,  2.74830349e-02, -1.42304733e-01,\n",
              "                7.26659596e-02, -1.64650708e-01, -4.15777236e-01,\n",
              "               -0.00000000e+00],\n",
              "              [-1.37287185e-01, -2.35421047e-01,  1.42790079e-01,\n",
              "                0.00000000e+00, -3.43216777e-01, -5.07241905e-01,\n",
              "                0.00000000e+00,  1.23072878e-01,  3.23854268e-01,\n",
              "               -3.48960012e-01],\n",
              "              [ 2.05491353e-02,  5.03729820e-01,  7.01236665e-01,\n",
              "                1.57915339e-01,  5.77706933e-01, -0.00000000e+00,\n",
              "               -1.24091163e-01,  0.00000000e+00,  2.21362989e-02,\n",
              "               -4.39952970e-01],\n",
              "              [-5.19051589e-03,  9.41336676e-02,  2.38529429e-01,\n",
              "               -0.00000000e+00,  4.30367738e-01,  1.90603495e-01,\n",
              "                1.19771957e-02,  4.80879955e-02, -3.66722071e-03,\n",
              "               -4.63955134e-01],\n",
              "              [ 3.36063474e-01, -2.07176298e-01,  9.30626750e-01,\n",
              "                2.37719670e-01, -2.67939380e-04, -5.89621186e-01,\n",
              "                0.00000000e+00, -1.52982697e-01,  0.00000000e+00,\n",
              "                1.82816073e-01],\n",
              "              [ 1.18886776e-01,  2.44656503e-01, -7.57910218e-03,\n",
              "                0.00000000e+00,  3.50879401e-01,  2.48744525e-02,\n",
              "                6.22008406e-02,  1.30415838e-02,  8.82871449e-01,\n",
              "                1.18669391e-01],\n",
              "              [ 0.00000000e+00,  2.61589676e-01,  3.67354363e-01,\n",
              "               -3.14322603e-03, -2.01091215e-01,  1.25384733e-01,\n",
              "               -3.86923641e-01,  6.14364296e-02, -0.00000000e+00,\n",
              "                2.48039648e-01],\n",
              "              [ 7.46527687e-03,  9.25887078e-02,  7.01436996e-01,\n",
              "               -2.42551297e-01,  6.71438932e-01, -6.46921694e-01,\n",
              "               -0.00000000e+00, -0.00000000e+00, -1.67470858e-01,\n",
              "               -2.84730226e-01],\n",
              "              [-1.65298715e-01,  2.99938507e-02,  8.00271332e-02,\n",
              "               -6.34677559e-02, -3.09711665e-01, -2.14062512e-01,\n",
              "               -0.00000000e+00,  0.00000000e+00, -1.22050956e-01,\n",
              "               -2.59203911e-01],\n",
              "              [ 0.00000000e+00,  0.00000000e+00,  0.00000000e+00,\n",
              "               -2.40642682e-01, -2.58114003e-02,  0.00000000e+00,\n",
              "                2.13165343e-01, -1.95792201e-03, -8.43773875e-03,\n",
              "               -5.54491758e-01],\n",
              "              [-5.57575077e-02, -2.62530804e-01,  4.18356717e-01,\n",
              "                5.93305156e-02,  2.66701669e-01,  0.00000000e+00,\n",
              "               -8.79425847e-04, -6.91979332e-03,  0.00000000e+00,\n",
              "                9.71340686e-02],\n",
              "              [-4.66832817e-01,  5.25048852e-01,  0.00000000e+00,\n",
              "               -5.88808954e-01, -3.93221498e-01, -0.00000000e+00,\n",
              "               -1.01683006e-01, -0.00000000e+00,  0.00000000e+00,\n",
              "               -1.54345036e-01],\n",
              "              [-4.83578034e-02,  1.05735332e-01,  0.00000000e+00,\n",
              "                9.20968726e-02, -3.05790305e-02,  6.28677085e-02,\n",
              "                0.00000000e+00,  4.53076541e-01,  7.57472992e-01,\n",
              "                4.77116369e-02],\n",
              "              [ 1.12078674e-02, -2.05593601e-01, -1.11111496e-02,\n",
              "               -3.20802331e-01,  1.08940490e-01,  0.00000000e+00,\n",
              "                0.00000000e+00, -2.01041102e-01, -6.40081525e-01,\n",
              "               -6.09712660e-01],\n",
              "              [-3.03048462e-01,  2.21280698e-02, -8.98521423e-01,\n",
              "                8.36267531e-01, -3.78982991e-01,  1.31148333e-02,\n",
              "               -0.00000000e+00,  1.31139964e-01,  3.68947349e-02,\n",
              "                2.54114509e-01],\n",
              "              [ 7.67785728e-01,  0.00000000e+00, -9.91882831e-02,\n",
              "                3.10298532e-01,  3.87863219e-01,  8.77848044e-02,\n",
              "                1.27984241e-01, -6.04291558e-01, -9.72264726e-03,\n",
              "                0.00000000e+00],\n",
              "              [-1.71910644e-01,  2.39976365e-02,  4.43002023e-03,\n",
              "                2.11018529e-02, -2.62139440e-01,  0.00000000e+00,\n",
              "                0.00000000e+00, -2.53459871e-01, -8.03607255e-02,\n",
              "                5.67958653e-01],\n",
              "              [-7.62618482e-01,  0.00000000e+00,  6.34258687e-01,\n",
              "               -4.81140614e-02,  1.03956899e-02,  5.00319064e-01,\n",
              "               -0.00000000e+00,  0.00000000e+00, -3.81327778e-01,\n",
              "               -9.47229639e-02],\n",
              "              [ 0.00000000e+00,  1.14880055e-01, -1.06176399e-01,\n",
              "                2.21815020e-01, -5.25254130e-01, -8.97764742e-01,\n",
              "               -2.07089171e-01,  3.95565093e-01, -1.23899736e-01,\n",
              "                7.44799674e-02],\n",
              "              [-1.58439018e-03, -0.00000000e+00, -3.55287522e-01,\n",
              "               -1.09579958e-01,  5.38880646e-01, -1.25034976e+00,\n",
              "               -3.56589794e-01, -8.28580186e-02, -2.72612363e-01,\n",
              "               -6.27173064e-03],\n",
              "              [-0.00000000e+00, -5.58628626e-02,  3.42152752e-02,\n",
              "                1.54667571e-01,  2.19105408e-01,  1.69357371e+00,\n",
              "               -4.14583599e-03, -0.00000000e+00,  3.59059614e-03,\n",
              "                4.17993784e-01],\n",
              "              [-3.59431505e-01, -3.34056467e-01,  3.13545704e-01,\n",
              "               -3.53696197e-01, -1.78774342e-01,  1.66488218e-03,\n",
              "               -8.32138211e-03,  9.90577042e-02, -3.82713109e-01,\n",
              "               -4.32025552e-01],\n",
              "              [ 2.20496319e-02, -4.50936466e-01, -7.06498474e-02,\n",
              "               -0.00000000e+00, -3.23676132e-02, -8.78098309e-02,\n",
              "               -0.00000000e+00,  0.00000000e+00, -0.00000000e+00,\n",
              "                7.90869415e-01],\n",
              "              [-0.00000000e+00,  0.00000000e+00, -9.47489619e-01,\n",
              "                2.64264010e-02, -0.00000000e+00,  1.08190067e-02,\n",
              "               -1.58160359e-01, -0.00000000e+00,  1.86557084e-01,\n",
              "                7.97174647e-02],\n",
              "              [-7.51776330e-04, -4.06344712e-01, -6.30917013e-01,\n",
              "                1.93903893e-01,  2.04929858e-01,  4.58335467e-02,\n",
              "                0.00000000e+00,  4.33375165e-02, -0.00000000e+00,\n",
              "               -1.09155118e-01],\n",
              "              [ 1.57309055e-01, -0.00000000e+00, -4.25360292e-01,\n",
              "               -1.97301105e-01, -6.59731999e-02,  2.97319293e-01,\n",
              "                1.47025749e-01,  4.34696466e-01,  0.00000000e+00,\n",
              "                3.44896138e-01],\n",
              "              [ 7.09685028e-01, -9.76439714e-02,  0.00000000e+00,\n",
              "               -6.70685470e-01,  2.10414425e-01, -0.00000000e+00,\n",
              "               -3.32633257e-01, -5.93613803e-01,  0.00000000e+00,\n",
              "               -1.99192725e-02],\n",
              "              [ 1.36887193e-01,  1.33889085e-02,  6.92219436e-02,\n",
              "               -1.25485495e-01,  1.46429509e-01,  2.75626659e-01,\n",
              "               -2.08850101e-01,  6.99815005e-02,  1.23846591e-01,\n",
              "               -1.73330948e-01],\n",
              "              [ 5.91633394e-02,  6.62274100e-03,  2.36728508e-02,\n",
              "               -1.09156001e+00, -0.00000000e+00, -4.92710501e-01,\n",
              "                5.56229830e-01, -0.00000000e+00,  2.85112374e-02,\n",
              "               -0.00000000e+00],\n",
              "              [ 0.00000000e+00,  2.54908174e-01,  3.64326537e-01,\n",
              "                2.17538211e-03, -0.00000000e+00, -0.00000000e+00,\n",
              "               -1.83087423e-01,  0.00000000e+00,  2.72644192e-01,\n",
              "                2.88910657e-01],\n",
              "              [-0.00000000e+00, -7.48798922e-02,  0.00000000e+00,\n",
              "               -0.00000000e+00,  0.00000000e+00,  1.60406977e-02,\n",
              "               -0.00000000e+00, -2.88995832e-01,  7.15860650e-02,\n",
              "                2.09334623e-02],\n",
              "              [-5.25300670e-03, -6.99596584e-01, -7.57552683e-01,\n",
              "               -0.00000000e+00, -4.34116647e-02,  8.11572611e-01,\n",
              "                4.14967656e-01,  0.00000000e+00, -5.98416477e-02,\n",
              "               -1.27881303e-01],\n",
              "              [-3.73014092e-01, -1.38512745e-01,  1.23352379e-01,\n",
              "                1.75385043e-01, -1.30015900e-02,  0.00000000e+00,\n",
              "                3.32417549e-03,  1.30472675e-01, -9.38808322e-02,\n",
              "                4.19146836e-01],\n",
              "              [ 0.00000000e+00,  1.58875324e-02,  4.42211749e-03,\n",
              "                7.12202117e-02,  5.61392233e-02, -3.12990755e-01,\n",
              "               -4.46849823e-01,  3.86321247e-02, -2.45784447e-01,\n",
              "               -0.00000000e+00],\n",
              "              [ 1.94052070e-01, -1.40526339e-01, -6.83542311e-01,\n",
              "               -1.66506380e-01,  0.00000000e+00,  7.86179245e-01,\n",
              "                4.52639341e-01,  0.00000000e+00,  1.31071955e-01,\n",
              "               -4.62708265e-01],\n",
              "              [ 2.24179894e-01,  0.00000000e+00, -0.00000000e+00,\n",
              "               -1.37182415e-01, -3.28611471e-02,  5.57554305e-01,\n",
              "                5.22482395e-01, -7.30186045e-01,  1.92882806e-01,\n",
              "                0.00000000e+00],\n",
              "              [ 4.24065948e-01, -1.84277624e-01, -1.54755544e-02,\n",
              "                4.49946383e-03, -0.00000000e+00,  0.00000000e+00,\n",
              "                6.47764385e-01, -1.31641459e-02, -1.41187638e-01,\n",
              "                0.00000000e+00],\n",
              "              [ 1.83849275e-01,  2.09223688e-01,  2.42910847e-01,\n",
              "               -8.53031725e-02,  1.15788088e-03, -1.66374877e-01,\n",
              "               -1.96705759e-03, -3.71291786e-01,  1.39786139e-01,\n",
              "                4.12291698e-02],\n",
              "              [ 1.45894930e-01, -2.31528636e-02,  3.03978333e-03,\n",
              "               -3.31487983e-01, -0.00000000e+00,  2.93363750e-01,\n",
              "               -7.29920626e-01, -2.25219861e-01, -7.44299171e-03,\n",
              "                3.27580154e-01],\n",
              "              [ 0.00000000e+00,  6.71379939e-02, -1.04707353e-01,\n",
              "                6.03871606e-03, -0.00000000e+00,  0.00000000e+00,\n",
              "               -1.77857712e-01,  1.42998010e-01,  4.64358851e-02,\n",
              "               -6.08033657e-01],\n",
              "              [ 5.66527396e-02,  2.33453035e-01,  4.70707774e-01,\n",
              "                4.57803421e-02,  5.20780915e-03,  1.93214893e-01,\n",
              "               -8.83291125e-01,  3.39365229e-02,  4.03222218e-02,\n",
              "                1.47632673e-01],\n",
              "              [ 1.96559932e-02,  9.74726379e-02, -1.14762776e-01,\n",
              "                1.28640532e+00, -0.00000000e+00,  1.04217127e-01,\n",
              "                0.00000000e+00,  1.61599591e-01, -1.38116837e-01,\n",
              "               -4.66061085e-01],\n",
              "              [ 4.82592806e-02, -6.18430004e-02,  8.27411041e-02,\n",
              "               -8.88687298e-02, -2.09741965e-01, -1.04089248e+00,\n",
              "                0.00000000e+00,  4.30593714e-02, -1.71093583e-01,\n",
              "                7.03885034e-02],\n",
              "              [-1.44818038e-01, -2.68275710e-03, -0.00000000e+00,\n",
              "                4.74614501e-01, -9.73154232e-02, -2.66012596e-03,\n",
              "               -0.00000000e+00, -3.04898713e-02,  0.00000000e+00,\n",
              "                4.34354693e-01],\n",
              "              [-0.00000000e+00,  5.21091633e-02,  0.00000000e+00,\n",
              "                1.46129638e-01, -1.62441775e-01, -1.46914139e-01,\n",
              "               -0.00000000e+00,  4.39478874e-01,  1.27988189e-01,\n",
              "                3.08644325e-02],\n",
              "              [-4.05124187e-01, -2.98181884e-02, -1.35585561e-01,\n",
              "                7.68939853e-01,  6.40425533e-02, -2.12574139e-01,\n",
              "               -2.77552813e-01, -2.46539742e-01, -8.87833312e-02,\n",
              "                1.88417107e-01],\n",
              "              [-2.10744515e-01, -1.57683790e-01, -1.57618657e-01,\n",
              "                1.42997295e-01,  3.46604854e-01, -5.83195627e-01,\n",
              "                9.48096588e-02, -0.00000000e+00,  0.00000000e+00,\n",
              "                0.00000000e+00],\n",
              "              [ 2.29525995e-02,  1.05210334e-01, -1.01440409e-02,\n",
              "               -1.41775358e+00, -9.78516817e-01,  1.57027540e-03,\n",
              "                1.08283006e-01, -0.00000000e+00, -6.95762830e-03,\n",
              "                0.00000000e+00],\n",
              "              [-1.09948955e-01,  9.96903718e-01, -2.22330719e-01,\n",
              "               -0.00000000e+00, -5.16640488e-03, -0.00000000e+00,\n",
              "                3.07834893e-01, -5.01406938e-02,  5.44092000e-01,\n",
              "               -0.00000000e+00],\n",
              "              [-2.65479326e-01, -3.39220226e-01,  1.91714242e-01,\n",
              "               -2.72128284e-01,  2.87647508e-02, -1.08891860e-01,\n",
              "                9.38662767e-01, -2.61009298e-02, -1.65252909e-02,\n",
              "                7.93460533e-02],\n",
              "              [ 0.00000000e+00,  2.36479864e-01, -6.30269274e-02,\n",
              "               -5.51791906e-01,  0.00000000e+00, -1.36722773e-01,\n",
              "               -1.37234688e-01,  8.91922116e-02, -1.05590448e-01,\n",
              "                2.24806070e-01],\n",
              "              [-5.16290553e-02,  8.93856525e-01,  6.34685993e-01,\n",
              "               -0.00000000e+00, -2.80551821e-01,  5.63445926e-01,\n",
              "                1.41878009e-01,  6.50938228e-02, -9.19144824e-02,\n",
              "                0.00000000e+00],\n",
              "              [ 3.03978890e-01, -8.16652328e-02,  1.38510093e-02,\n",
              "                2.28463739e-01,  3.02407235e-01,  9.63635277e-03,\n",
              "                4.80161756e-02,  7.91350722e-01,  1.66913271e-01,\n",
              "               -2.97862533e-02],\n",
              "              [ 3.36724110e-02, -6.38726801e-02, -1.90384373e-01,\n",
              "                3.91592085e-01, -4.66397077e-01, -1.06331043e-01,\n",
              "               -1.47269294e-01, -1.85894713e-01, -2.25956775e-02,\n",
              "               -6.62878081e-02],\n",
              "              [ 3.15639973e-02, -1.90068975e-01,  2.18179058e-02,\n",
              "                4.86630112e-01,  1.02021739e-01,  6.29673719e-01,\n",
              "               -1.11696031e-03, -0.00000000e+00,  0.00000000e+00,\n",
              "                4.20692593e-01],\n",
              "              [ 5.67812696e-02,  1.06517744e+00, -1.71289444e-02,\n",
              "                6.11266136e-01, -3.37035596e-01, -3.76220718e-02,\n",
              "                2.60188729e-01,  2.19597816e-01, -6.82444274e-01,\n",
              "                1.60402149e-01]], dtype=float32))"
            ]
          },
          "metadata": {
            "tags": []
          },
          "execution_count": 60
        }
      ]
    }
  ]
}